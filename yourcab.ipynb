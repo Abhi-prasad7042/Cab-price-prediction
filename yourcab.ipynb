{
 "cells": [
  {
   "cell_type": "markdown",
   "id": "189b139c",
   "metadata": {},
   "source": [
    "YOURCABS\n",
    "* id - booking ID\n",
    "* user_id - the ID of the customer (based on mobile number)\n",
    "* vehicle_model_id - vehicle model type.\n",
    "* package_id - type of package (1=4hrs & 40kms, 2=8hrs & 80kms, 3=6hrs & 60kms, 4= 10hrs & 100kms, 5=5hrs & 50kms, 6=3hrs\n",
    "& 30kms, 7=12hrs & 120kms)\n",
    "* travel_type_id - type of travel (1=long distance, 2= point to point, 3= hourly rental).\n",
    "* from_area_id - unique identifier of area. Applicable only for point-to-point travel and packages\n",
    "* to_area_id - unique identifier of area. Applicable only for point-to-point travel\n",
    "* from_city_id - unique identifier of city\n",
    "* to_city_id - unique identifier of city (only for intercity)\n",
    "* from_date - time stamp of requested trip start\n",
    "* online_booking - if booking was done on desktop website\n",
    "* mobile_site_booking - if booking was done on mobile website\n",
    "* booking_created - time stamp of booking\n",
    "* from_lat - latitude of from area\n",
    "* from_long - longitude of from area\n",
    "* to_lat - latitude of to area\n",
    "* to_long - longitude of to area\n",
    "* Car_Cancellation - whether the booking was cancelled (1) or not (0) due to unavailability of "
   ]
  },
  {
   "cell_type": "code",
   "execution_count": 1,
   "id": "dacf9646",
   "metadata": {},
   "outputs": [],
   "source": [
    "import pandas as pd\n",
    "import numpy as np\n",
    "import matplotlib.pyplot as plt\n",
    "import seaborn as sns"
   ]
  },
  {
   "cell_type": "code",
   "execution_count": 2,
   "id": "20556bc4-836b-4421-9a60-64022a16b41f",
   "metadata": {},
   "outputs": [],
   "source": [
    "pd.option_context('mode.use_inf_as_na', True);"
   ]
  },
  {
   "cell_type": "code",
   "execution_count": 125,
   "id": "426b8b0c",
   "metadata": {},
   "outputs": [],
   "source": [
    "df = pd.read_csv(\"YourCabs.csv\")"
   ]
  },
  {
   "cell_type": "code",
   "execution_count": 126,
   "id": "947bebba",
   "metadata": {},
   "outputs": [
    {
     "data": {
      "text/html": [
       "<div>\n",
       "<style scoped>\n",
       "    .dataframe tbody tr th:only-of-type {\n",
       "        vertical-align: middle;\n",
       "    }\n",
       "\n",
       "    .dataframe tbody tr th {\n",
       "        vertical-align: top;\n",
       "    }\n",
       "\n",
       "    .dataframe thead th {\n",
       "        text-align: right;\n",
       "    }\n",
       "</style>\n",
       "<table border=\"1\" class=\"dataframe\">\n",
       "  <thead>\n",
       "    <tr style=\"text-align: right;\">\n",
       "      <th></th>\n",
       "      <th>id</th>\n",
       "      <th>user_id</th>\n",
       "      <th>vehicle_model_id</th>\n",
       "      <th>package_id</th>\n",
       "      <th>travel_type_id</th>\n",
       "      <th>from_area_id</th>\n",
       "      <th>to_area_id</th>\n",
       "      <th>from_city_id</th>\n",
       "      <th>to_city_id</th>\n",
       "      <th>from_date</th>\n",
       "      <th>online_booking</th>\n",
       "      <th>mobile_site_booking</th>\n",
       "      <th>booking_created</th>\n",
       "      <th>from_lat</th>\n",
       "      <th>from_long</th>\n",
       "      <th>to_lat</th>\n",
       "      <th>to_long</th>\n",
       "      <th>Car_Cancellation</th>\n",
       "    </tr>\n",
       "  </thead>\n",
       "  <tbody>\n",
       "    <tr>\n",
       "      <th>0</th>\n",
       "      <td>132512</td>\n",
       "      <td>22177</td>\n",
       "      <td>28</td>\n",
       "      <td>NaN</td>\n",
       "      <td>2</td>\n",
       "      <td>83.0</td>\n",
       "      <td>448.0</td>\n",
       "      <td>NaN</td>\n",
       "      <td>NaN</td>\n",
       "      <td>01-01-2013 02:00</td>\n",
       "      <td>0</td>\n",
       "      <td>0</td>\n",
       "      <td>01-01-2013 01:39</td>\n",
       "      <td>12.924150</td>\n",
       "      <td>77.672290</td>\n",
       "      <td>12.927320</td>\n",
       "      <td>77.635750</td>\n",
       "      <td>0</td>\n",
       "    </tr>\n",
       "    <tr>\n",
       "      <th>1</th>\n",
       "      <td>132513</td>\n",
       "      <td>21413</td>\n",
       "      <td>12</td>\n",
       "      <td>NaN</td>\n",
       "      <td>2</td>\n",
       "      <td>1010.0</td>\n",
       "      <td>540.0</td>\n",
       "      <td>NaN</td>\n",
       "      <td>NaN</td>\n",
       "      <td>01-01-2013 09:00</td>\n",
       "      <td>0</td>\n",
       "      <td>0</td>\n",
       "      <td>01-01-2013 02:25</td>\n",
       "      <td>12.966910</td>\n",
       "      <td>77.749350</td>\n",
       "      <td>12.927680</td>\n",
       "      <td>77.626640</td>\n",
       "      <td>0</td>\n",
       "    </tr>\n",
       "    <tr>\n",
       "      <th>2</th>\n",
       "      <td>132514</td>\n",
       "      <td>22178</td>\n",
       "      <td>12</td>\n",
       "      <td>NaN</td>\n",
       "      <td>2</td>\n",
       "      <td>1301.0</td>\n",
       "      <td>1034.0</td>\n",
       "      <td>NaN</td>\n",
       "      <td>NaN</td>\n",
       "      <td>01-01-2013 03:30</td>\n",
       "      <td>0</td>\n",
       "      <td>0</td>\n",
       "      <td>01-01-2013 03:08</td>\n",
       "      <td>12.937222</td>\n",
       "      <td>77.626915</td>\n",
       "      <td>13.047926</td>\n",
       "      <td>77.597766</td>\n",
       "      <td>0</td>\n",
       "    </tr>\n",
       "    <tr>\n",
       "      <th>3</th>\n",
       "      <td>132515</td>\n",
       "      <td>13034</td>\n",
       "      <td>12</td>\n",
       "      <td>NaN</td>\n",
       "      <td>2</td>\n",
       "      <td>768.0</td>\n",
       "      <td>398.0</td>\n",
       "      <td>NaN</td>\n",
       "      <td>NaN</td>\n",
       "      <td>01-01-2013 05:45</td>\n",
       "      <td>0</td>\n",
       "      <td>0</td>\n",
       "      <td>01-01-2013 04:39</td>\n",
       "      <td>12.989990</td>\n",
       "      <td>77.553320</td>\n",
       "      <td>12.971430</td>\n",
       "      <td>77.639140</td>\n",
       "      <td>0</td>\n",
       "    </tr>\n",
       "    <tr>\n",
       "      <th>4</th>\n",
       "      <td>132517</td>\n",
       "      <td>22180</td>\n",
       "      <td>12</td>\n",
       "      <td>NaN</td>\n",
       "      <td>2</td>\n",
       "      <td>1365.0</td>\n",
       "      <td>849.0</td>\n",
       "      <td>NaN</td>\n",
       "      <td>NaN</td>\n",
       "      <td>01-01-2013 09:00</td>\n",
       "      <td>0</td>\n",
       "      <td>0</td>\n",
       "      <td>01-01-2013 07:53</td>\n",
       "      <td>12.845653</td>\n",
       "      <td>77.677925</td>\n",
       "      <td>12.954340</td>\n",
       "      <td>77.600720</td>\n",
       "      <td>0</td>\n",
       "    </tr>\n",
       "  </tbody>\n",
       "</table>\n",
       "</div>"
      ],
      "text/plain": [
       "       id  user_id  vehicle_model_id  package_id  travel_type_id  \\\n",
       "0  132512    22177                28         NaN               2   \n",
       "1  132513    21413                12         NaN               2   \n",
       "2  132514    22178                12         NaN               2   \n",
       "3  132515    13034                12         NaN               2   \n",
       "4  132517    22180                12         NaN               2   \n",
       "\n",
       "   from_area_id  to_area_id  from_city_id  to_city_id         from_date  \\\n",
       "0          83.0       448.0           NaN         NaN  01-01-2013 02:00   \n",
       "1        1010.0       540.0           NaN         NaN  01-01-2013 09:00   \n",
       "2        1301.0      1034.0           NaN         NaN  01-01-2013 03:30   \n",
       "3         768.0       398.0           NaN         NaN  01-01-2013 05:45   \n",
       "4        1365.0       849.0           NaN         NaN  01-01-2013 09:00   \n",
       "\n",
       "   online_booking  mobile_site_booking   booking_created   from_lat  \\\n",
       "0               0                    0  01-01-2013 01:39  12.924150   \n",
       "1               0                    0  01-01-2013 02:25  12.966910   \n",
       "2               0                    0  01-01-2013 03:08  12.937222   \n",
       "3               0                    0  01-01-2013 04:39  12.989990   \n",
       "4               0                    0  01-01-2013 07:53  12.845653   \n",
       "\n",
       "   from_long     to_lat    to_long  Car_Cancellation  \n",
       "0  77.672290  12.927320  77.635750                 0  \n",
       "1  77.749350  12.927680  77.626640                 0  \n",
       "2  77.626915  13.047926  77.597766                 0  \n",
       "3  77.553320  12.971430  77.639140                 0  \n",
       "4  77.677925  12.954340  77.600720                 0  "
      ]
     },
     "execution_count": 126,
     "metadata": {},
     "output_type": "execute_result"
    }
   ],
   "source": [
    "df.head()"
   ]
  },
  {
   "cell_type": "code",
   "execution_count": 127,
   "id": "865dd630",
   "metadata": {},
   "outputs": [
    {
     "name": "stdout",
     "output_type": "stream",
     "text": [
      "<class 'pandas.core.frame.DataFrame'>\n",
      "RangeIndex: 43431 entries, 0 to 43430\n",
      "Data columns (total 18 columns):\n",
      " #   Column               Non-Null Count  Dtype  \n",
      "---  ------               --------------  -----  \n",
      " 0   id                   43431 non-null  int64  \n",
      " 1   user_id              43431 non-null  int64  \n",
      " 2   vehicle_model_id     43431 non-null  int64  \n",
      " 3   package_id           7550 non-null   float64\n",
      " 4   travel_type_id       43431 non-null  int64  \n",
      " 5   from_area_id         43343 non-null  float64\n",
      " 6   to_area_id           34293 non-null  float64\n",
      " 7   from_city_id         16345 non-null  float64\n",
      " 8   to_city_id           1588 non-null   float64\n",
      " 9   from_date            43431 non-null  object \n",
      " 10  online_booking       43431 non-null  int64  \n",
      " 11  mobile_site_booking  43431 non-null  int64  \n",
      " 12  booking_created      43431 non-null  object \n",
      " 13  from_lat             43338 non-null  float64\n",
      " 14  from_long            43338 non-null  float64\n",
      " 15  to_lat               34293 non-null  float64\n",
      " 16  to_long              34293 non-null  float64\n",
      " 17  Car_Cancellation     43431 non-null  int64  \n",
      "dtypes: float64(9), int64(7), object(2)\n",
      "memory usage: 6.0+ MB\n"
     ]
    }
   ],
   "source": [
    "#checking info\n",
    "df.info()"
   ]
  },
  {
   "cell_type": "code",
   "execution_count": 128,
   "id": "1703d2e2",
   "metadata": {},
   "outputs": [
    {
     "data": {
      "text/plain": [
       "Car_Cancellation\n",
       "0    40299\n",
       "1     3132\n",
       "Name: count, dtype: int64"
      ]
     },
     "execution_count": 128,
     "metadata": {},
     "output_type": "execute_result"
    }
   ],
   "source": [
    "#checking counts of values of our target feature\n",
    "df[\"Car_Cancellation\"].value_counts()"
   ]
  },
  {
   "cell_type": "code",
   "execution_count": 129,
   "id": "ca7c681f",
   "metadata": {},
   "outputs": [
    {
     "data": {
      "text/plain": [
       "<Axes: xlabel='Car_Cancellation', ylabel='count'>"
      ]
     },
     "execution_count": 129,
     "metadata": {},
     "output_type": "execute_result"
    },
    {
     "data": {
      "image/png": "[encoded data removed]",
      "text/plain": [
       "<Figure size 640x480 with 1 Axes>"
      ]
     },
     "metadata": {},
     "output_type": "display_data"
    }
   ],
   "source": [
    "# Ploting countplot\n",
    "sns.countplot(x = df[\"Car_Cancellation\"])"
   ]
  },
  {
   "cell_type": "markdown",
   "id": "18500478",
   "metadata": {},
   "source": [
    "#### Missing Values"
   ]
  },
  {
   "cell_type": "code",
   "execution_count": 130,
   "id": "80b96205",
   "metadata": {},
   "outputs": [],
   "source": [
    "# selecting only missing values\n",
    "nan_feat = [feat for feat in df.columns if df[feat].isna().sum()>1]"
   ]
  },
  {
   "cell_type": "code",
   "execution_count": 131,
   "id": "64031e90",
   "metadata": {},
   "outputs": [
    {
     "data": {
      "text/html": [
       "<div>\n",
       "<style scoped>\n",
       "    .dataframe tbody tr th:only-of-type {\n",
       "        vertical-align: middle;\n",
       "    }\n",
       "\n",
       "    .dataframe tbody tr th {\n",
       "        vertical-align: top;\n",
       "    }\n",
       "\n",
       "    .dataframe thead th {\n",
       "        text-align: right;\n",
       "    }\n",
       "</style>\n",
       "<table border=\"1\" class=\"dataframe\">\n",
       "  <thead>\n",
       "    <tr style=\"text-align: right;\">\n",
       "      <th></th>\n",
       "      <th>package_id</th>\n",
       "      <th>from_area_id</th>\n",
       "      <th>to_area_id</th>\n",
       "      <th>from_city_id</th>\n",
       "      <th>to_city_id</th>\n",
       "      <th>from_lat</th>\n",
       "      <th>from_long</th>\n",
       "      <th>to_lat</th>\n",
       "      <th>to_long</th>\n",
       "    </tr>\n",
       "  </thead>\n",
       "  <tbody>\n",
       "    <tr>\n",
       "      <th>0</th>\n",
       "      <td>NaN</td>\n",
       "      <td>83.0</td>\n",
       "      <td>448.0</td>\n",
       "      <td>NaN</td>\n",
       "      <td>NaN</td>\n",
       "      <td>12.924150</td>\n",
       "      <td>77.672290</td>\n",
       "      <td>12.927320</td>\n",
       "      <td>77.635750</td>\n",
       "    </tr>\n",
       "    <tr>\n",
       "      <th>1</th>\n",
       "      <td>NaN</td>\n",
       "      <td>1010.0</td>\n",
       "      <td>540.0</td>\n",
       "      <td>NaN</td>\n",
       "      <td>NaN</td>\n",
       "      <td>12.966910</td>\n",
       "      <td>77.749350</td>\n",
       "      <td>12.927680</td>\n",
       "      <td>77.626640</td>\n",
       "    </tr>\n",
       "    <tr>\n",
       "      <th>2</th>\n",
       "      <td>NaN</td>\n",
       "      <td>1301.0</td>\n",
       "      <td>1034.0</td>\n",
       "      <td>NaN</td>\n",
       "      <td>NaN</td>\n",
       "      <td>12.937222</td>\n",
       "      <td>77.626915</td>\n",
       "      <td>13.047926</td>\n",
       "      <td>77.597766</td>\n",
       "    </tr>\n",
       "    <tr>\n",
       "      <th>3</th>\n",
       "      <td>NaN</td>\n",
       "      <td>768.0</td>\n",
       "      <td>398.0</td>\n",
       "      <td>NaN</td>\n",
       "      <td>NaN</td>\n",
       "      <td>12.989990</td>\n",
       "      <td>77.553320</td>\n",
       "      <td>12.971430</td>\n",
       "      <td>77.639140</td>\n",
       "    </tr>\n",
       "    <tr>\n",
       "      <th>4</th>\n",
       "      <td>NaN</td>\n",
       "      <td>1365.0</td>\n",
       "      <td>849.0</td>\n",
       "      <td>NaN</td>\n",
       "      <td>NaN</td>\n",
       "      <td>12.845653</td>\n",
       "      <td>77.677925</td>\n",
       "      <td>12.954340</td>\n",
       "      <td>77.600720</td>\n",
       "    </tr>\n",
       "  </tbody>\n",
       "</table>\n",
       "</div>"
      ],
      "text/plain": [
       "   package_id  from_area_id  to_area_id  from_city_id  to_city_id   from_lat  \\\n",
       "0         NaN          83.0       448.0           NaN         NaN  12.924150   \n",
       "1         NaN        1010.0       540.0           NaN         NaN  12.966910   \n",
       "2         NaN        1301.0      1034.0           NaN         NaN  12.937222   \n",
       "3         NaN         768.0       398.0           NaN         NaN  12.989990   \n",
       "4         NaN        1365.0       849.0           NaN         NaN  12.845653   \n",
       "\n",
       "   from_long     to_lat    to_long  \n",
       "0  77.672290  12.927320  77.635750  \n",
       "1  77.749350  12.927680  77.626640  \n",
       "2  77.626915  13.047926  77.597766  \n",
       "3  77.553320  12.971430  77.639140  \n",
       "4  77.677925  12.954340  77.600720  "
      ]
     },
     "execution_count": 131,
     "metadata": {},
     "output_type": "execute_result"
    }
   ],
   "source": [
    "df[nan_feat].head()"
   ]
  },
  {
   "cell_type": "code",
   "execution_count": 132,
   "id": "8b0a61f8",
   "metadata": {},
   "outputs": [
    {
     "name": "stdout",
     "output_type": "stream",
     "text": [
      "package_id --------->    35881\n",
      "from_area_id --------->    88\n",
      "to_area_id --------->    9138\n",
      "from_city_id --------->    27086\n",
      "to_city_id --------->    41843\n",
      "from_lat --------->    93\n",
      "from_long --------->    93\n",
      "to_lat --------->    9138\n",
      "to_long --------->    9138\n"
     ]
    }
   ],
   "source": [
    "for feat in nan_feat:\n",
    "    print(feat+\" --------->   \", df[feat].isna().sum())"
   ]
  },
  {
   "cell_type": "code",
   "execution_count": 133,
   "id": "d6512664",
   "metadata": {},
   "outputs": [
    {
     "name": "stdout",
     "output_type": "stream",
     "text": [
      "43431  ---->  43431\n",
      "43431  ---->  22267\n"
     ]
    }
   ],
   "source": [
    "## checking id & user_id column\n",
    "\n",
    "print(len(df),\" ----> \",df[\"id\"].nunique())\n",
    "print(len(df),\" ----> \",df[\"user_id\"].nunique())"
   ]
  },
  {
   "cell_type": "code",
   "execution_count": 134,
   "id": "165ff5b9",
   "metadata": {},
   "outputs": [
    {
     "data": {
      "text/html": [
       "<div>\n",
       "<style scoped>\n",
       "    .dataframe tbody tr th:only-of-type {\n",
       "        vertical-align: middle;\n",
       "    }\n",
       "\n",
       "    .dataframe tbody tr th {\n",
       "        vertical-align: top;\n",
       "    }\n",
       "\n",
       "    .dataframe thead th {\n",
       "        text-align: right;\n",
       "    }\n",
       "</style>\n",
       "<table border=\"1\" class=\"dataframe\">\n",
       "  <thead>\n",
       "    <tr style=\"text-align: right;\">\n",
       "      <th></th>\n",
       "      <th>count</th>\n",
       "      <th>mean</th>\n",
       "      <th>std</th>\n",
       "      <th>min</th>\n",
       "      <th>25%</th>\n",
       "      <th>50%</th>\n",
       "      <th>75%</th>\n",
       "      <th>max</th>\n",
       "    </tr>\n",
       "  </thead>\n",
       "  <tbody>\n",
       "    <tr>\n",
       "      <th>id</th>\n",
       "      <td>43431.0</td>\n",
       "      <td>159206.473556</td>\n",
       "      <td>15442.386279</td>\n",
       "      <td>132512.00000</td>\n",
       "      <td>145778.000000</td>\n",
       "      <td>159248.000000</td>\n",
       "      <td>172578.50000</td>\n",
       "      <td>185941.000000</td>\n",
       "    </tr>\n",
       "    <tr>\n",
       "      <th>user_id</th>\n",
       "      <td>43431.0</td>\n",
       "      <td>30739.198153</td>\n",
       "      <td>10996.476709</td>\n",
       "      <td>16.00000</td>\n",
       "      <td>24614.000000</td>\n",
       "      <td>31627.000000</td>\n",
       "      <td>39167.00000</td>\n",
       "      <td>48730.000000</td>\n",
       "    </tr>\n",
       "    <tr>\n",
       "      <th>vehicle_model_id</th>\n",
       "      <td>43431.0</td>\n",
       "      <td>25.717230</td>\n",
       "      <td>26.798250</td>\n",
       "      <td>1.00000</td>\n",
       "      <td>12.000000</td>\n",
       "      <td>12.000000</td>\n",
       "      <td>24.00000</td>\n",
       "      <td>91.000000</td>\n",
       "    </tr>\n",
       "    <tr>\n",
       "      <th>package_id</th>\n",
       "      <td>7550.0</td>\n",
       "      <td>2.030066</td>\n",
       "      <td>1.461756</td>\n",
       "      <td>1.00000</td>\n",
       "      <td>1.000000</td>\n",
       "      <td>2.000000</td>\n",
       "      <td>2.00000</td>\n",
       "      <td>7.000000</td>\n",
       "    </tr>\n",
       "    <tr>\n",
       "      <th>travel_type_id</th>\n",
       "      <td>43431.0</td>\n",
       "      <td>2.137252</td>\n",
       "      <td>0.437712</td>\n",
       "      <td>1.00000</td>\n",
       "      <td>2.000000</td>\n",
       "      <td>2.000000</td>\n",
       "      <td>2.00000</td>\n",
       "      <td>3.000000</td>\n",
       "    </tr>\n",
       "    <tr>\n",
       "      <th>from_area_id</th>\n",
       "      <td>43343.0</td>\n",
       "      <td>714.544494</td>\n",
       "      <td>419.883553</td>\n",
       "      <td>2.00000</td>\n",
       "      <td>393.000000</td>\n",
       "      <td>590.000000</td>\n",
       "      <td>1089.00000</td>\n",
       "      <td>1403.000000</td>\n",
       "    </tr>\n",
       "    <tr>\n",
       "      <th>to_area_id</th>\n",
       "      <td>34293.0</td>\n",
       "      <td>669.490917</td>\n",
       "      <td>400.638225</td>\n",
       "      <td>2.00000</td>\n",
       "      <td>393.000000</td>\n",
       "      <td>541.000000</td>\n",
       "      <td>1054.00000</td>\n",
       "      <td>1403.000000</td>\n",
       "    </tr>\n",
       "    <tr>\n",
       "      <th>from_city_id</th>\n",
       "      <td>16345.0</td>\n",
       "      <td>14.915081</td>\n",
       "      <td>1.165306</td>\n",
       "      <td>1.00000</td>\n",
       "      <td>15.000000</td>\n",
       "      <td>15.000000</td>\n",
       "      <td>15.00000</td>\n",
       "      <td>31.000000</td>\n",
       "    </tr>\n",
       "    <tr>\n",
       "      <th>to_city_id</th>\n",
       "      <td>1588.0</td>\n",
       "      <td>68.537783</td>\n",
       "      <td>49.880732</td>\n",
       "      <td>4.00000</td>\n",
       "      <td>32.000000</td>\n",
       "      <td>49.000000</td>\n",
       "      <td>108.00000</td>\n",
       "      <td>203.000000</td>\n",
       "    </tr>\n",
       "    <tr>\n",
       "      <th>online_booking</th>\n",
       "      <td>43431.0</td>\n",
       "      <td>0.351592</td>\n",
       "      <td>0.477473</td>\n",
       "      <td>0.00000</td>\n",
       "      <td>0.000000</td>\n",
       "      <td>0.000000</td>\n",
       "      <td>1.00000</td>\n",
       "      <td>1.000000</td>\n",
       "    </tr>\n",
       "    <tr>\n",
       "      <th>mobile_site_booking</th>\n",
       "      <td>43431.0</td>\n",
       "      <td>0.043241</td>\n",
       "      <td>0.203402</td>\n",
       "      <td>0.00000</td>\n",
       "      <td>0.000000</td>\n",
       "      <td>0.000000</td>\n",
       "      <td>0.00000</td>\n",
       "      <td>1.000000</td>\n",
       "    </tr>\n",
       "    <tr>\n",
       "      <th>from_lat</th>\n",
       "      <td>43338.0</td>\n",
       "      <td>12.982461</td>\n",
       "      <td>0.085933</td>\n",
       "      <td>12.77663</td>\n",
       "      <td>12.926450</td>\n",
       "      <td>12.968887</td>\n",
       "      <td>13.00775</td>\n",
       "      <td>13.366072</td>\n",
       "    </tr>\n",
       "    <tr>\n",
       "      <th>from_long</th>\n",
       "      <td>43338.0</td>\n",
       "      <td>77.636255</td>\n",
       "      <td>0.059391</td>\n",
       "      <td>77.38693</td>\n",
       "      <td>77.593661</td>\n",
       "      <td>77.635750</td>\n",
       "      <td>77.68890</td>\n",
       "      <td>77.786420</td>\n",
       "    </tr>\n",
       "    <tr>\n",
       "      <th>to_lat</th>\n",
       "      <td>34293.0</td>\n",
       "      <td>13.026648</td>\n",
       "      <td>0.113487</td>\n",
       "      <td>12.77663</td>\n",
       "      <td>12.951850</td>\n",
       "      <td>12.982750</td>\n",
       "      <td>13.19956</td>\n",
       "      <td>13.366072</td>\n",
       "    </tr>\n",
       "    <tr>\n",
       "      <th>to_long</th>\n",
       "      <td>34293.0</td>\n",
       "      <td>77.640595</td>\n",
       "      <td>0.064045</td>\n",
       "      <td>77.38693</td>\n",
       "      <td>77.582030</td>\n",
       "      <td>77.645030</td>\n",
       "      <td>77.70688</td>\n",
       "      <td>77.786420</td>\n",
       "    </tr>\n",
       "    <tr>\n",
       "      <th>Car_Cancellation</th>\n",
       "      <td>43431.0</td>\n",
       "      <td>0.072114</td>\n",
       "      <td>0.258680</td>\n",
       "      <td>0.00000</td>\n",
       "      <td>0.000000</td>\n",
       "      <td>0.000000</td>\n",
       "      <td>0.00000</td>\n",
       "      <td>1.000000</td>\n",
       "    </tr>\n",
       "  </tbody>\n",
       "</table>\n",
       "</div>"
      ],
      "text/plain": [
       "                       count           mean           std           min  \\\n",
       "id                   43431.0  159206.473556  15442.386279  132512.00000   \n",
       "user_id              43431.0   30739.198153  10996.476709      16.00000   \n",
       "vehicle_model_id     43431.0      25.717230     26.798250       1.00000   \n",
       "package_id            7550.0       2.030066      1.461756       1.00000   \n",
       "travel_type_id       43431.0       2.137252      0.437712       1.00000   \n",
       "from_area_id         43343.0     714.544494    419.883553       2.00000   \n",
       "to_area_id           34293.0     669.490917    400.638225       2.00000   \n",
       "from_city_id         16345.0      14.915081      1.165306       1.00000   \n",
       "to_city_id            1588.0      68.537783     49.880732       4.00000   \n",
       "online_booking       43431.0       0.351592      0.477473       0.00000   \n",
       "mobile_site_booking  43431.0       0.043241      0.203402       0.00000   \n",
       "from_lat             43338.0      12.982461      0.085933      12.77663   \n",
       "from_long            43338.0      77.636255      0.059391      77.38693   \n",
       "to_lat               34293.0      13.026648      0.113487      12.77663   \n",
       "to_long              34293.0      77.640595      0.064045      77.38693   \n",
       "Car_Cancellation     43431.0       0.072114      0.258680       0.00000   \n",
       "\n",
       "                               25%            50%           75%            max  \n",
       "id                   145778.000000  159248.000000  172578.50000  185941.000000  \n",
       "user_id               24614.000000   31627.000000   39167.00000   48730.000000  \n",
       "vehicle_model_id         12.000000      12.000000      24.00000      91.000000  \n",
       "package_id                1.000000       2.000000       2.00000       7.000000  \n",
       "travel_type_id            2.000000       2.000000       2.00000       3.000000  \n",
       "from_area_id            393.000000     590.000000    1089.00000    1403.000000  \n",
       "to_area_id              393.000000     541.000000    1054.00000    1403.000000  \n",
       "from_city_id             15.000000      15.000000      15.00000      31.000000  \n",
       "to_city_id               32.000000      49.000000     108.00000     203.000000  \n",
       "online_booking            0.000000       0.000000       1.00000       1.000000  \n",
       "mobile_site_booking       0.000000       0.000000       0.00000       1.000000  \n",
       "from_lat                 12.926450      12.968887      13.00775      13.366072  \n",
       "from_long                77.593661      77.635750      77.68890      77.786420  \n",
       "to_lat                   12.951850      12.982750      13.19956      13.366072  \n",
       "to_long                  77.582030      77.645030      77.70688      77.786420  \n",
       "Car_Cancellation          0.000000       0.000000       0.00000       1.000000  "
      ]
     },
     "execution_count": 134,
     "metadata": {},
     "output_type": "execute_result"
    }
   ],
   "source": [
    "#description of dataset\n",
    "df.describe().T"
   ]
  },
  {
   "cell_type": "code",
   "execution_count": 135,
   "id": "8fc816b6-ee22-4329-8bd3-cadacb31e2a4",
   "metadata": {},
   "outputs": [
    {
     "data": {
      "text/plain": [
       "<Axes: xlabel='package_id', ylabel='count'>"
      ]
     },
     "execution_count": 135,
     "metadata": {},
     "output_type": "execute_result"
    },
    {
     "data": {
      "image/png": "[encoded data removed]",
      "text/plain": [
       "<Figure size 640x480 with 1 Axes>"
      ]
     },
     "metadata": {},
     "output_type": "display_data"
    }
   ],
   "source": [
    "sns.countplot(x=df[\"package_id\"])"
   ]
  },
  {
   "cell_type": "code",
   "execution_count": 136,
   "id": "d57a9121-95c2-4bc4-a788-6c0a6de71a9a",
   "metadata": {},
   "outputs": [
    {
     "data": {
      "image/png": "[encoded data removed]",
      "text/plain": [
       "<Figure size 640x480 with 1 Axes>"
      ]
     },
     "metadata": {},
     "output_type": "display_data"
    }
   ],
   "source": [
    "sns.countplot(x=df[\"travel_type_id\"]);"
   ]
  },
  {
   "cell_type": "code",
   "execution_count": 137,
   "id": "568b56da-4e1c-4376-86d0-ce9fc81d78ba",
   "metadata": {},
   "outputs": [
    {
     "data": {
      "text/plain": [
       "<Axes: xlabel='online_booking', ylabel='count'>"
      ]
     },
     "execution_count": 137,
     "metadata": {},
     "output_type": "execute_result"
    },
    {
     "data": {
      "image/png": "[encoded data removed]",
      "text/plain": [
       "<Figure size 640x480 with 1 Axes>"
      ]
     },
     "metadata": {},
     "output_type": "display_data"
    }
   ],
   "source": [
    "sns.countplot(x=df[\"online_booking\"])"
   ]
  },
  {
   "cell_type": "code",
   "execution_count": 138,
   "id": "ab3656a7-e46d-4b87-b718-3bcd9da2fca6",
   "metadata": {},
   "outputs": [
    {
     "data": {
      "image/png": "[encoded data removed]",
      "text/plain": [
       "<Figure size 640x480 with 1 Axes>"
      ]
     },
     "metadata": {},
     "output_type": "display_data"
    }
   ],
   "source": [
    "sns.countplot(x=df[\"mobile_site_booking\"]);"
   ]
  },
  {
   "cell_type": "code",
   "execution_count": 139,
   "id": "e7713fff-a8fd-4dc3-9da4-d606de6a1482",
   "metadata": {},
   "outputs": [
    {
     "name": "stderr",
     "output_type": "stream",
     "text": [
      "C:\\Users\\abhip\\miniconda3\\envs\\env\\Lib\\site-packages\\seaborn\\_oldcore.py:1119: FutureWarning: use_inf_as_na option is deprecated and will be removed in a future version. Convert inf values to NaN before operating instead.\n",
      "  with pd.option_context('mode.use_inf_as_na', True):\n"
     ]
    },
    {
     "data": {
      "image/png": "[encoded data removed]",
      "text/plain": [
       "<Figure size 640x480 with 1 Axes>"
      ]
     },
     "metadata": {},
     "output_type": "display_data"
    }
   ],
   "source": [
    "sns.histplot(x=df[\"to_area_id\"]);"
   ]
  },
  {
   "cell_type": "code",
   "execution_count": 140,
   "id": "35efdb87-db3f-4210-a5e0-2db7c7a87cae",
   "metadata": {},
   "outputs": [
    {
     "name": "stderr",
     "output_type": "stream",
     "text": [
      "C:\\Users\\abhip\\miniconda3\\envs\\env\\Lib\\site-packages\\seaborn\\_oldcore.py:1119: FutureWarning: use_inf_as_na option is deprecated and will be removed in a future version. Convert inf values to NaN before operating instead.\n",
      "  with pd.option_context('mode.use_inf_as_na', True):\n"
     ]
    },
    {
     "data": {
      "image/png": "[encoded data removed]",
      "text/plain": [
       "<Figure size 640x480 with 1 Axes>"
      ]
     },
     "metadata": {},
     "output_type": "display_data"
    }
   ],
   "source": [
    "sns.histplot(x=df[\"from_area_id\"]);"
   ]
  },
  {
   "cell_type": "code",
   "execution_count": 141,
   "id": "1a2872f5-b76f-44dc-922d-c0c63e64758f",
   "metadata": {},
   "outputs": [
    {
     "name": "stderr",
     "output_type": "stream",
     "text": [
      "C:\\Users\\abhip\\miniconda3\\envs\\env\\Lib\\site-packages\\seaborn\\_oldcore.py:1119: FutureWarning: use_inf_as_na option is deprecated and will be removed in a future version. Convert inf values to NaN before operating instead.\n",
      "  with pd.option_context('mode.use_inf_as_na', True):\n"
     ]
    },
    {
     "data": {
      "image/png": "[encoded data removed]",
      "text/plain": [
       "<Figure size 640x480 with 1 Axes>"
      ]
     },
     "metadata": {},
     "output_type": "display_data"
    }
   ],
   "source": [
    "sns.histplot(x=df[\"to_city_id\"]);"
   ]
  },
  {
   "cell_type": "code",
   "execution_count": 142,
   "id": "9e682342-27b3-46ac-b97b-d91f39f0f53c",
   "metadata": {},
   "outputs": [
    {
     "data": {
      "image/png": "[encoded data removed]",
      "text/plain": [
       "<Figure size 640x480 with 1 Axes>"
      ]
     },
     "metadata": {},
     "output_type": "display_data"
    }
   ],
   "source": [
    "sns.countplot(x=df[\"from_city_id\"]);"
   ]
  },
  {
   "cell_type": "markdown",
   "id": "aa7363d8-f04d-4ceb-937b-55c92d0224c6",
   "metadata": {},
   "source": [
    "#### **Observations**\n",
    "\n",
    "1. id and user_id columns are not useful because id is a unique id and we can't use user_id for prediction because we have to train model with user behavior not with user_id So, we'll drop both columns.\n",
    "2. There are a lot of missing values we have to fill those missing values with some meaningful data.\n",
    "3. The dataset is imbalanced we have to handle this as well.\n",
    "4. Most of the people who book cabs travel a max of 100 km.\n",
    "5. Cab books mostly for point to point travel.\n",
    "6. People travel only in three cities.\n",
    "7. There are very less people who book cabs using mobile sites.\n",
    "8. 30-40% of people book cabs using online booking.\n",
    "9. We have two temporal features booking_created and from date currently both are object we have to change their types."
   ]
  },
  {
   "cell_type": "code",
   "execution_count": 143,
   "id": "1347eabf-fa22-4569-97f2-baa7f8a3b186",
   "metadata": {},
   "outputs": [],
   "source": [
    "#droping the id and user_id column\n",
    "df.drop([\"id\",\"user_id\"], axis=1, inplace=True)"
   ]
  },
  {
   "cell_type": "code",
   "execution_count": 144,
   "id": "582b25e5-69c1-4035-ad2f-e643b5f63c27",
   "metadata": {},
   "outputs": [
    {
     "data": {
      "text/html": [
       "<div>\n",
       "<style scoped>\n",
       "    .dataframe tbody tr th:only-of-type {\n",
       "        vertical-align: middle;\n",
       "    }\n",
       "\n",
       "    .dataframe tbody tr th {\n",
       "        vertical-align: top;\n",
       "    }\n",
       "\n",
       "    .dataframe thead th {\n",
       "        text-align: right;\n",
       "    }\n",
       "</style>\n",
       "<table border=\"1\" class=\"dataframe\">\n",
       "  <thead>\n",
       "    <tr style=\"text-align: right;\">\n",
       "      <th></th>\n",
       "      <th>vehicle_model_id</th>\n",
       "      <th>package_id</th>\n",
       "      <th>travel_type_id</th>\n",
       "      <th>from_area_id</th>\n",
       "      <th>to_area_id</th>\n",
       "      <th>from_city_id</th>\n",
       "      <th>to_city_id</th>\n",
       "      <th>from_date</th>\n",
       "      <th>online_booking</th>\n",
       "      <th>mobile_site_booking</th>\n",
       "      <th>booking_created</th>\n",
       "      <th>from_lat</th>\n",
       "      <th>from_long</th>\n",
       "      <th>to_lat</th>\n",
       "      <th>to_long</th>\n",
       "      <th>Car_Cancellation</th>\n",
       "    </tr>\n",
       "  </thead>\n",
       "  <tbody>\n",
       "    <tr>\n",
       "      <th>0</th>\n",
       "      <td>28</td>\n",
       "      <td>NaN</td>\n",
       "      <td>2</td>\n",
       "      <td>83.0</td>\n",
       "      <td>448.0</td>\n",
       "      <td>NaN</td>\n",
       "      <td>NaN</td>\n",
       "      <td>01-01-2013 02:00</td>\n",
       "      <td>0</td>\n",
       "      <td>0</td>\n",
       "      <td>01-01-2013 01:39</td>\n",
       "      <td>12.924150</td>\n",
       "      <td>77.672290</td>\n",
       "      <td>12.927320</td>\n",
       "      <td>77.635750</td>\n",
       "      <td>0</td>\n",
       "    </tr>\n",
       "    <tr>\n",
       "      <th>1</th>\n",
       "      <td>12</td>\n",
       "      <td>NaN</td>\n",
       "      <td>2</td>\n",
       "      <td>1010.0</td>\n",
       "      <td>540.0</td>\n",
       "      <td>NaN</td>\n",
       "      <td>NaN</td>\n",
       "      <td>01-01-2013 09:00</td>\n",
       "      <td>0</td>\n",
       "      <td>0</td>\n",
       "      <td>01-01-2013 02:25</td>\n",
       "      <td>12.966910</td>\n",
       "      <td>77.749350</td>\n",
       "      <td>12.927680</td>\n",
       "      <td>77.626640</td>\n",
       "      <td>0</td>\n",
       "    </tr>\n",
       "    <tr>\n",
       "      <th>2</th>\n",
       "      <td>12</td>\n",
       "      <td>NaN</td>\n",
       "      <td>2</td>\n",
       "      <td>1301.0</td>\n",
       "      <td>1034.0</td>\n",
       "      <td>NaN</td>\n",
       "      <td>NaN</td>\n",
       "      <td>01-01-2013 03:30</td>\n",
       "      <td>0</td>\n",
       "      <td>0</td>\n",
       "      <td>01-01-2013 03:08</td>\n",
       "      <td>12.937222</td>\n",
       "      <td>77.626915</td>\n",
       "      <td>13.047926</td>\n",
       "      <td>77.597766</td>\n",
       "      <td>0</td>\n",
       "    </tr>\n",
       "    <tr>\n",
       "      <th>3</th>\n",
       "      <td>12</td>\n",
       "      <td>NaN</td>\n",
       "      <td>2</td>\n",
       "      <td>768.0</td>\n",
       "      <td>398.0</td>\n",
       "      <td>NaN</td>\n",
       "      <td>NaN</td>\n",
       "      <td>01-01-2013 05:45</td>\n",
       "      <td>0</td>\n",
       "      <td>0</td>\n",
       "      <td>01-01-2013 04:39</td>\n",
       "      <td>12.989990</td>\n",
       "      <td>77.553320</td>\n",
       "      <td>12.971430</td>\n",
       "      <td>77.639140</td>\n",
       "      <td>0</td>\n",
       "    </tr>\n",
       "    <tr>\n",
       "      <th>4</th>\n",
       "      <td>12</td>\n",
       "      <td>NaN</td>\n",
       "      <td>2</td>\n",
       "      <td>1365.0</td>\n",
       "      <td>849.0</td>\n",
       "      <td>NaN</td>\n",
       "      <td>NaN</td>\n",
       "      <td>01-01-2013 09:00</td>\n",
       "      <td>0</td>\n",
       "      <td>0</td>\n",
       "      <td>01-01-2013 07:53</td>\n",
       "      <td>12.845653</td>\n",
       "      <td>77.677925</td>\n",
       "      <td>12.954340</td>\n",
       "      <td>77.600720</td>\n",
       "      <td>0</td>\n",
       "    </tr>\n",
       "  </tbody>\n",
       "</table>\n",
       "</div>"
      ],
      "text/plain": [
       "   vehicle_model_id  package_id  travel_type_id  from_area_id  to_area_id  \\\n",
       "0                28         NaN               2          83.0       448.0   \n",
       "1                12         NaN               2        1010.0       540.0   \n",
       "2                12         NaN               2        1301.0      1034.0   \n",
       "3                12         NaN               2         768.0       398.0   \n",
       "4                12         NaN               2        1365.0       849.0   \n",
       "\n",
       "   from_city_id  to_city_id         from_date  online_booking  \\\n",
       "0           NaN         NaN  01-01-2013 02:00               0   \n",
       "1           NaN         NaN  01-01-2013 09:00               0   \n",
       "2           NaN         NaN  01-01-2013 03:30               0   \n",
       "3           NaN         NaN  01-01-2013 05:45               0   \n",
       "4           NaN         NaN  01-01-2013 09:00               0   \n",
       "\n",
       "   mobile_site_booking   booking_created   from_lat  from_long     to_lat  \\\n",
       "0                    0  01-01-2013 01:39  12.924150  77.672290  12.927320   \n",
       "1                    0  01-01-2013 02:25  12.966910  77.749350  12.927680   \n",
       "2                    0  01-01-2013 03:08  12.937222  77.626915  13.047926   \n",
       "3                    0  01-01-2013 04:39  12.989990  77.553320  12.971430   \n",
       "4                    0  01-01-2013 07:53  12.845653  77.677925  12.954340   \n",
       "\n",
       "     to_long  Car_Cancellation  \n",
       "0  77.635750                 0  \n",
       "1  77.626640                 0  \n",
       "2  77.597766                 0  \n",
       "3  77.639140                 0  \n",
       "4  77.600720                 0  "
      ]
     },
     "execution_count": 144,
     "metadata": {},
     "output_type": "execute_result"
    }
   ],
   "source": [
    "df.head()"
   ]
  },
  {
   "cell_type": "markdown",
   "id": "8cc0eaaf-623e-4621-a525-49174e515827",
   "metadata": {},
   "source": [
    "#### Filling missing values"
   ]
  },
  {
   "cell_type": "code",
   "execution_count": 145,
   "id": "3ff0347f-ddce-4af7-acbe-849d77a1ae91",
   "metadata": {},
   "outputs": [
    {
     "data": {
      "text/html": [
       "<div>\n",
       "<style scoped>\n",
       "    .dataframe tbody tr th:only-of-type {\n",
       "        vertical-align: middle;\n",
       "    }\n",
       "\n",
       "    .dataframe tbody tr th {\n",
       "        vertical-align: top;\n",
       "    }\n",
       "\n",
       "    .dataframe thead th {\n",
       "        text-align: right;\n",
       "    }\n",
       "</style>\n",
       "<table border=\"1\" class=\"dataframe\">\n",
       "  <thead>\n",
       "    <tr style=\"text-align: right;\">\n",
       "      <th></th>\n",
       "      <th>package_id</th>\n",
       "      <th>from_area_id</th>\n",
       "      <th>to_area_id</th>\n",
       "      <th>from_city_id</th>\n",
       "      <th>to_city_id</th>\n",
       "      <th>from_lat</th>\n",
       "      <th>from_long</th>\n",
       "      <th>to_lat</th>\n",
       "      <th>to_long</th>\n",
       "    </tr>\n",
       "  </thead>\n",
       "  <tbody>\n",
       "    <tr>\n",
       "      <th>0</th>\n",
       "      <td>NaN</td>\n",
       "      <td>83.0</td>\n",
       "      <td>448.0</td>\n",
       "      <td>NaN</td>\n",
       "      <td>NaN</td>\n",
       "      <td>12.924150</td>\n",
       "      <td>77.672290</td>\n",
       "      <td>12.927320</td>\n",
       "      <td>77.635750</td>\n",
       "    </tr>\n",
       "    <tr>\n",
       "      <th>1</th>\n",
       "      <td>NaN</td>\n",
       "      <td>1010.0</td>\n",
       "      <td>540.0</td>\n",
       "      <td>NaN</td>\n",
       "      <td>NaN</td>\n",
       "      <td>12.966910</td>\n",
       "      <td>77.749350</td>\n",
       "      <td>12.927680</td>\n",
       "      <td>77.626640</td>\n",
       "    </tr>\n",
       "    <tr>\n",
       "      <th>2</th>\n",
       "      <td>NaN</td>\n",
       "      <td>1301.0</td>\n",
       "      <td>1034.0</td>\n",
       "      <td>NaN</td>\n",
       "      <td>NaN</td>\n",
       "      <td>12.937222</td>\n",
       "      <td>77.626915</td>\n",
       "      <td>13.047926</td>\n",
       "      <td>77.597766</td>\n",
       "    </tr>\n",
       "    <tr>\n",
       "      <th>3</th>\n",
       "      <td>NaN</td>\n",
       "      <td>768.0</td>\n",
       "      <td>398.0</td>\n",
       "      <td>NaN</td>\n",
       "      <td>NaN</td>\n",
       "      <td>12.989990</td>\n",
       "      <td>77.553320</td>\n",
       "      <td>12.971430</td>\n",
       "      <td>77.639140</td>\n",
       "    </tr>\n",
       "    <tr>\n",
       "      <th>4</th>\n",
       "      <td>NaN</td>\n",
       "      <td>1365.0</td>\n",
       "      <td>849.0</td>\n",
       "      <td>NaN</td>\n",
       "      <td>NaN</td>\n",
       "      <td>12.845653</td>\n",
       "      <td>77.677925</td>\n",
       "      <td>12.954340</td>\n",
       "      <td>77.600720</td>\n",
       "    </tr>\n",
       "  </tbody>\n",
       "</table>\n",
       "</div>"
      ],
      "text/plain": [
       "   package_id  from_area_id  to_area_id  from_city_id  to_city_id   from_lat  \\\n",
       "0         NaN          83.0       448.0           NaN         NaN  12.924150   \n",
       "1         NaN        1010.0       540.0           NaN         NaN  12.966910   \n",
       "2         NaN        1301.0      1034.0           NaN         NaN  12.937222   \n",
       "3         NaN         768.0       398.0           NaN         NaN  12.989990   \n",
       "4         NaN        1365.0       849.0           NaN         NaN  12.845653   \n",
       "\n",
       "   from_long     to_lat    to_long  \n",
       "0  77.672290  12.927320  77.635750  \n",
       "1  77.749350  12.927680  77.626640  \n",
       "2  77.626915  13.047926  77.597766  \n",
       "3  77.553320  12.971430  77.639140  \n",
       "4  77.677925  12.954340  77.600720  "
      ]
     },
     "execution_count": 145,
     "metadata": {},
     "output_type": "execute_result"
    }
   ],
   "source": [
    "df[nan_feat].head()"
   ]
  },
  {
   "cell_type": "code",
   "execution_count": 146,
   "id": "edcdfbce-0d5e-49f6-8dfe-73dcdaa04ea6",
   "metadata": {},
   "outputs": [],
   "source": [
    "# we are going fill area_id with median \n",
    "df[\"to_area_id\"]=df[\"to_area_id\"].fillna(df[\"to_area_id\"].median())\n",
    "df[\"from_area_id\"]=df[\"from_area_id\"].fillna(df[\"from_area_id\"].median())"
   ]
  },
  {
   "cell_type": "code",
   "execution_count": 147,
   "id": "a9ec5463-686a-4ea4-9f26-3ee1d6241c53",
   "metadata": {},
   "outputs": [
    {
     "data": {
      "text/plain": [
       "vehicle_model_id           0\n",
       "package_id             35881\n",
       "travel_type_id             0\n",
       "from_area_id               0\n",
       "to_area_id                 0\n",
       "from_city_id           27086\n",
       "to_city_id             41843\n",
       "from_date                  0\n",
       "online_booking             0\n",
       "mobile_site_booking        0\n",
       "booking_created            0\n",
       "from_lat                  93\n",
       "from_long                 93\n",
       "to_lat                  9138\n",
       "to_long                 9138\n",
       "Car_Cancellation           0\n",
       "dtype: int64"
      ]
     },
     "execution_count": 147,
     "metadata": {},
     "output_type": "execute_result"
    }
   ],
   "source": [
    "df.isna().sum()"
   ]
  },
  {
   "cell_type": "code",
   "execution_count": 148,
   "id": "6e02d799-1cf9-44a7-80c8-e5e4b57ca6ae",
   "metadata": {},
   "outputs": [
    {
     "data": {
      "text/plain": [
       "from_city_id\n",
       "15.0    16233\n",
       "1.0       106\n",
       "31.0        6\n",
       "Name: count, dtype: int64"
      ]
     },
     "execution_count": 148,
     "metadata": {},
     "output_type": "execute_result"
    }
   ],
   "source": [
    "df[\"from_city_id\"].value_counts()"
   ]
  },
  {
   "cell_type": "code",
   "execution_count": 149,
   "id": "898f837e-fb5f-4d63-a208-e61a5d9939ba",
   "metadata": {},
   "outputs": [],
   "source": [
    "#filling from_city_id with the most occurance value\n",
    "df[\"from_city_id\"] = df[\"from_city_id\"].fillna(15.0)"
   ]
  },
  {
   "cell_type": "code",
   "execution_count": 150,
   "id": "ce56444a-b38c-4457-93f4-742ad1d4d0f5",
   "metadata": {},
   "outputs": [],
   "source": [
    "#filling to_city_id with median\n",
    "df[\"to_city_id\"] = df[\"to_city_id\"].fillna(df[\"to_city_id\"].median())"
   ]
  },
  {
   "cell_type": "code",
   "execution_count": 151,
   "id": "4563b6e2-ee30-49bb-898a-13dd6a49048a",
   "metadata": {},
   "outputs": [
    {
     "data": {
      "text/plain": [
       "vehicle_model_id           0\n",
       "package_id             35881\n",
       "travel_type_id             0\n",
       "from_area_id               0\n",
       "to_area_id                 0\n",
       "from_city_id               0\n",
       "to_city_id                 0\n",
       "from_date                  0\n",
       "online_booking             0\n",
       "mobile_site_booking        0\n",
       "booking_created            0\n",
       "from_lat                  93\n",
       "from_long                 93\n",
       "to_lat                  9138\n",
       "to_long                 9138\n",
       "Car_Cancellation           0\n",
       "dtype: int64"
      ]
     },
     "execution_count": 151,
     "metadata": {},
     "output_type": "execute_result"
    }
   ],
   "source": [
    "df.isna().sum()"
   ]
  },
  {
   "cell_type": "code",
   "execution_count": 152,
   "id": "b2cc760b-f24f-41f6-b57a-656e7b6d1981",
   "metadata": {},
   "outputs": [],
   "source": [
    "df[\"from_lat\"] = df[\"from_lat\"].fillna(df[\"from_lat\"].median())\n",
    "df[\"from_long\"] = df[\"from_long\"].fillna(df[\"from_long\"].median())"
   ]
  },
  {
   "cell_type": "code",
   "execution_count": 153,
   "id": "f078cdfc-7c90-459b-881f-547dc35e8e5a",
   "metadata": {},
   "outputs": [
    {
     "data": {
      "text/plain": [
       "vehicle_model_id           0\n",
       "package_id             35881\n",
       "travel_type_id             0\n",
       "from_area_id               0\n",
       "to_area_id                 0\n",
       "from_city_id               0\n",
       "to_city_id                 0\n",
       "from_date                  0\n",
       "online_booking             0\n",
       "mobile_site_booking        0\n",
       "booking_created            0\n",
       "from_lat                   0\n",
       "from_long                  0\n",
       "to_lat                  9138\n",
       "to_long                 9138\n",
       "Car_Cancellation           0\n",
       "dtype: int64"
      ]
     },
     "execution_count": 153,
     "metadata": {},
     "output_type": "execute_result"
    }
   ],
   "source": [
    "df.isna().sum()"
   ]
  },
  {
   "cell_type": "code",
   "execution_count": 154,
   "id": "005545b2-e03e-4c58-8964-6a89d006ea25",
   "metadata": {},
   "outputs": [
    {
     "data": {
      "text/plain": [
       "0    77.70688\n",
       "Name: to_long, dtype: float64"
      ]
     },
     "execution_count": 154,
     "metadata": {},
     "output_type": "execute_result"
    }
   ],
   "source": [
    "df[\"to_long\"].mode()"
   ]
  },
  {
   "cell_type": "code",
   "execution_count": 155,
   "id": "44e60796-0140-4006-ba16-6b82c38e1358",
   "metadata": {},
   "outputs": [
    {
     "data": {
      "text/plain": [
       "0    13.19956\n",
       "Name: to_lat, dtype: float64"
      ]
     },
     "execution_count": 155,
     "metadata": {},
     "output_type": "execute_result"
    }
   ],
   "source": [
    "df[\"to_lat\"].mode()"
   ]
  },
  {
   "cell_type": "code",
   "execution_count": 156,
   "id": "5cc6ac36-089a-46f5-8b50-dc51217145d4",
   "metadata": {},
   "outputs": [],
   "source": [
    "#filling these values with the mode\n",
    "df[\"to_lat\"] = df[\"to_lat\"].fillna(13.19956)\n",
    "df[\"to_long\"] = df[\"to_long\"].fillna(77.70688)"
   ]
  },
  {
   "cell_type": "code",
   "execution_count": 157,
   "id": "b9f6a790-b251-462f-8d57-320f0db0ea7d",
   "metadata": {},
   "outputs": [
    {
     "data": {
      "text/plain": [
       "vehicle_model_id           0\n",
       "package_id             35881\n",
       "travel_type_id             0\n",
       "from_area_id               0\n",
       "to_area_id                 0\n",
       "from_city_id               0\n",
       "to_city_id                 0\n",
       "from_date                  0\n",
       "online_booking             0\n",
       "mobile_site_booking        0\n",
       "booking_created            0\n",
       "from_lat                   0\n",
       "from_long                  0\n",
       "to_lat                     0\n",
       "to_long                    0\n",
       "Car_Cancellation           0\n",
       "dtype: int64"
      ]
     },
     "execution_count": 157,
     "metadata": {},
     "output_type": "execute_result"
    }
   ],
   "source": [
    "df.isna().sum()"
   ]
  },
  {
   "cell_type": "code",
   "execution_count": 158,
   "id": "6b184e0c-4f03-416c-bc80-f83dbad8c615",
   "metadata": {},
   "outputs": [
    {
     "data": {
      "text/html": [
       "<div>\n",
       "<style scoped>\n",
       "    .dataframe tbody tr th:only-of-type {\n",
       "        vertical-align: middle;\n",
       "    }\n",
       "\n",
       "    .dataframe tbody tr th {\n",
       "        vertical-align: top;\n",
       "    }\n",
       "\n",
       "    .dataframe thead th {\n",
       "        text-align: right;\n",
       "    }\n",
       "</style>\n",
       "<table border=\"1\" class=\"dataframe\">\n",
       "  <thead>\n",
       "    <tr style=\"text-align: right;\">\n",
       "      <th></th>\n",
       "      <th>vehicle_model_id</th>\n",
       "      <th>package_id</th>\n",
       "      <th>travel_type_id</th>\n",
       "      <th>from_area_id</th>\n",
       "      <th>to_area_id</th>\n",
       "      <th>from_city_id</th>\n",
       "      <th>to_city_id</th>\n",
       "      <th>from_date</th>\n",
       "      <th>online_booking</th>\n",
       "      <th>mobile_site_booking</th>\n",
       "      <th>booking_created</th>\n",
       "      <th>from_lat</th>\n",
       "      <th>from_long</th>\n",
       "      <th>to_lat</th>\n",
       "      <th>to_long</th>\n",
       "      <th>Car_Cancellation</th>\n",
       "    </tr>\n",
       "  </thead>\n",
       "  <tbody>\n",
       "    <tr>\n",
       "      <th>0</th>\n",
       "      <td>28</td>\n",
       "      <td>NaN</td>\n",
       "      <td>2</td>\n",
       "      <td>83.0</td>\n",
       "      <td>448.0</td>\n",
       "      <td>15.0</td>\n",
       "      <td>49.0</td>\n",
       "      <td>01-01-2013 02:00</td>\n",
       "      <td>0</td>\n",
       "      <td>0</td>\n",
       "      <td>01-01-2013 01:39</td>\n",
       "      <td>12.924150</td>\n",
       "      <td>77.672290</td>\n",
       "      <td>12.927320</td>\n",
       "      <td>77.635750</td>\n",
       "      <td>0</td>\n",
       "    </tr>\n",
       "    <tr>\n",
       "      <th>1</th>\n",
       "      <td>12</td>\n",
       "      <td>NaN</td>\n",
       "      <td>2</td>\n",
       "      <td>1010.0</td>\n",
       "      <td>540.0</td>\n",
       "      <td>15.0</td>\n",
       "      <td>49.0</td>\n",
       "      <td>01-01-2013 09:00</td>\n",
       "      <td>0</td>\n",
       "      <td>0</td>\n",
       "      <td>01-01-2013 02:25</td>\n",
       "      <td>12.966910</td>\n",
       "      <td>77.749350</td>\n",
       "      <td>12.927680</td>\n",
       "      <td>77.626640</td>\n",
       "      <td>0</td>\n",
       "    </tr>\n",
       "    <tr>\n",
       "      <th>2</th>\n",
       "      <td>12</td>\n",
       "      <td>NaN</td>\n",
       "      <td>2</td>\n",
       "      <td>1301.0</td>\n",
       "      <td>1034.0</td>\n",
       "      <td>15.0</td>\n",
       "      <td>49.0</td>\n",
       "      <td>01-01-2013 03:30</td>\n",
       "      <td>0</td>\n",
       "      <td>0</td>\n",
       "      <td>01-01-2013 03:08</td>\n",
       "      <td>12.937222</td>\n",
       "      <td>77.626915</td>\n",
       "      <td>13.047926</td>\n",
       "      <td>77.597766</td>\n",
       "      <td>0</td>\n",
       "    </tr>\n",
       "    <tr>\n",
       "      <th>3</th>\n",
       "      <td>12</td>\n",
       "      <td>NaN</td>\n",
       "      <td>2</td>\n",
       "      <td>768.0</td>\n",
       "      <td>398.0</td>\n",
       "      <td>15.0</td>\n",
       "      <td>49.0</td>\n",
       "      <td>01-01-2013 05:45</td>\n",
       "      <td>0</td>\n",
       "      <td>0</td>\n",
       "      <td>01-01-2013 04:39</td>\n",
       "      <td>12.989990</td>\n",
       "      <td>77.553320</td>\n",
       "      <td>12.971430</td>\n",
       "      <td>77.639140</td>\n",
       "      <td>0</td>\n",
       "    </tr>\n",
       "    <tr>\n",
       "      <th>4</th>\n",
       "      <td>12</td>\n",
       "      <td>NaN</td>\n",
       "      <td>2</td>\n",
       "      <td>1365.0</td>\n",
       "      <td>849.0</td>\n",
       "      <td>15.0</td>\n",
       "      <td>49.0</td>\n",
       "      <td>01-01-2013 09:00</td>\n",
       "      <td>0</td>\n",
       "      <td>0</td>\n",
       "      <td>01-01-2013 07:53</td>\n",
       "      <td>12.845653</td>\n",
       "      <td>77.677925</td>\n",
       "      <td>12.954340</td>\n",
       "      <td>77.600720</td>\n",
       "      <td>0</td>\n",
       "    </tr>\n",
       "  </tbody>\n",
       "</table>\n",
       "</div>"
      ],
      "text/plain": [
       "   vehicle_model_id  package_id  travel_type_id  from_area_id  to_area_id  \\\n",
       "0                28         NaN               2          83.0       448.0   \n",
       "1                12         NaN               2        1010.0       540.0   \n",
       "2                12         NaN               2        1301.0      1034.0   \n",
       "3                12         NaN               2         768.0       398.0   \n",
       "4                12         NaN               2        1365.0       849.0   \n",
       "\n",
       "   from_city_id  to_city_id         from_date  online_booking  \\\n",
       "0          15.0        49.0  01-01-2013 02:00               0   \n",
       "1          15.0        49.0  01-01-2013 09:00               0   \n",
       "2          15.0        49.0  01-01-2013 03:30               0   \n",
       "3          15.0        49.0  01-01-2013 05:45               0   \n",
       "4          15.0        49.0  01-01-2013 09:00               0   \n",
       "\n",
       "   mobile_site_booking   booking_created   from_lat  from_long     to_lat  \\\n",
       "0                    0  01-01-2013 01:39  12.924150  77.672290  12.927320   \n",
       "1                    0  01-01-2013 02:25  12.966910  77.749350  12.927680   \n",
       "2                    0  01-01-2013 03:08  12.937222  77.626915  13.047926   \n",
       "3                    0  01-01-2013 04:39  12.989990  77.553320  12.971430   \n",
       "4                    0  01-01-2013 07:53  12.845653  77.677925  12.954340   \n",
       "\n",
       "     to_long  Car_Cancellation  \n",
       "0  77.635750                 0  \n",
       "1  77.626640                 0  \n",
       "2  77.597766                 0  \n",
       "3  77.639140                 0  \n",
       "4  77.600720                 0  "
      ]
     },
     "execution_count": 158,
     "metadata": {},
     "output_type": "execute_result"
    }
   ],
   "source": [
    "df.head()"
   ]
  },
  {
   "cell_type": "code",
   "execution_count": 159,
   "id": "20df78e3-5f8a-40d0-9e56-e5402b816436",
   "metadata": {},
   "outputs": [],
   "source": [
    "def date_correction(a):\n",
    "    spt = a.split(\"-\")\n",
    "    result = \"/\".join(spt)\n",
    "    return result"
   ]
  },
  {
   "cell_type": "code",
   "execution_count": 160,
   "id": "90341bc6-bd33-4789-9b32-c4a661639a4f",
   "metadata": {},
   "outputs": [],
   "source": [
    "df[\"from_date\"] = df[\"from_date\"].apply(lambda x: date_correction(x))"
   ]
  },
  {
   "cell_type": "code",
   "execution_count": 161,
   "id": "f9bc90fe-8a42-4f8a-a14a-e18450f6bee2",
   "metadata": {},
   "outputs": [],
   "source": [
    "df[\"booking_created\"] = df[\"booking_created\"].apply(lambda x: date_correction(x))"
   ]
  },
  {
   "cell_type": "code",
   "execution_count": 170,
   "id": "f1c4324b-d5e7-4d08-a3fe-9e073c8701ee",
   "metadata": {},
   "outputs": [
    {
     "data": {
      "text/plain": [
       "'01/02/2013 16:00'"
      ]
     },
     "execution_count": 170,
     "metadata": {},
     "output_type": "execute_result"
    }
   ],
   "source": [
    "a = df[\"from_date\"].loc[100]\n",
    "a"
   ]
  },
  {
   "cell_type": "code",
   "execution_count": 171,
   "id": "7f5eb716-7e67-424f-81d9-73c8a58fb9f7",
   "metadata": {},
   "outputs": [
    {
     "data": {
      "text/plain": [
       "['16', '00']"
      ]
     },
     "execution_count": 171,
     "metadata": {},
     "output_type": "execute_result"
    }
   ],
   "source": [
    "a.split()[1].split(':')"
   ]
  },
  {
   "cell_type": "code",
   "execution_count": 166,
   "id": "29544027-618d-4bc6-8c9b-449434e12e28",
   "metadata": {},
   "outputs": [],
   "source": [
    "df[\"from_date_month\"] = df[\"from_date\"].apply(lambda x: x.split()[0].split('/')[0])\n",
    "df[\"from_date_day\"] = df[\"from_date\"].apply(lambda x: x.split()[0].split('/')[1])\n",
    "df[\"from_date_year\"] = df[\"from_date\"].apply(lambda x: x.split()[0].split('/')[2])"
   ]
  },
  {
   "cell_type": "code",
   "execution_count": 172,
   "id": "507f0f31-f528-447f-b4de-5daa8735d692",
   "metadata": {},
   "outputs": [],
   "source": [
    "df[\"from_date_hour\"] = df[\"from_date\"].apply(lambda x: x.split()[1].split(':')[0])\n",
    "df[\"from_date_minutes\"] = df[\"from_date\"].apply(lambda x: x.split()[1].split(':')[1])"
   ]
  },
  {
   "cell_type": "code",
   "execution_count": 175,
   "id": "71889c6c-78cd-4115-bd2e-ba13bf8f25be",
   "metadata": {},
   "outputs": [],
   "source": [
    "df.drop(\"from_date\", axis=1, inplace=True)"
   ]
  },
  {
   "cell_type": "code",
   "execution_count": 176,
   "id": "9b46e767-e806-4901-ae8c-b12d3bb6a769",
   "metadata": {},
   "outputs": [
    {
     "data": {
      "text/plain": [
       "0    01/01/2013 01:39\n",
       "1    01/01/2013 02:25\n",
       "2    01/01/2013 03:08\n",
       "3    01/01/2013 04:39\n",
       "4    01/01/2013 07:53\n",
       "Name: booking_created, dtype: object"
      ]
     },
     "execution_count": 176,
     "metadata": {},
     "output_type": "execute_result"
    }
   ],
   "source": [
    "df[\"booking_created\"].head()"
   ]
  },
  {
   "cell_type": "code",
   "execution_count": 177,
   "id": "b415c622-0f73-47d7-9e9a-7c50bfab4005",
   "metadata": {},
   "outputs": [],
   "source": [
    "df[\"booking_created_month\"] = df[\"booking_created\"].apply(lambda x: x.split()[0].split('/')[0])\n",
    "df[\"booking_created_day\"] = df[\"booking_created\"].apply(lambda x: x.split()[0].split('/')[1])\n",
    "df[\"booking_created_year\"] = df[\"booking_created\"].apply(lambda x: x.split()[0].split('/')[2])"
   ]
  },
  {
   "cell_type": "code",
   "execution_count": 178,
   "id": "26826ad7-5528-4736-9d6b-86b2c79170b4",
   "metadata": {},
   "outputs": [],
   "source": [
    "df[\"booking_created_hour\"] = df[\"booking_created\"].apply(lambda x: x.split()[1].split(':')[0])\n",
    "df[\"booking_created_minutes\"] = df[\"booking_created\"].apply(lambda x: x.split()[1].split(':')[1])"
   ]
  },
  {
   "cell_type": "code",
   "execution_count": 201,
   "id": "15a77281-b83f-4897-bc34-07c4cb8dfa82",
   "metadata": {},
   "outputs": [
    {
     "data": {
      "text/plain": [
       "dtype('O')"
      ]
     },
     "execution_count": 201,
     "metadata": {},
     "output_type": "execute_result"
    }
   ],
   "source": [
    "df[\"booking_created_day\"].dtypes"
   ]
  },
  {
   "cell_type": "code",
   "execution_count": 202,
   "id": "bb017ff2-7155-483f-8036-9c099a233282",
   "metadata": {},
   "outputs": [],
   "source": [
    "obj_feat = [feat for feat in df.columns if df[feat].dtypes =='O']"
   ]
  },
  {
   "cell_type": "code",
   "execution_count": 204,
   "id": "0fd63a4b-4b56-4932-8dd5-5ba4dd2b8279",
   "metadata": {},
   "outputs": [],
   "source": [
    "for feat in obj_feat:\n",
    "    df[feat] = df[feat].astype(int)"
   ]
  },
  {
   "cell_type": "code",
   "execution_count": 205,
   "id": "4f03707d-22c7-4648-914e-8756555af4ad",
   "metadata": {},
   "outputs": [
    {
     "name": "stdout",
     "output_type": "stream",
     "text": [
      "<class 'pandas.core.frame.DataFrame'>\n",
      "RangeIndex: 43431 entries, 0 to 43430\n",
      "Data columns (total 25 columns):\n",
      " #   Column                   Non-Null Count  Dtype  \n",
      "---  ------                   --------------  -----  \n",
      " 0   vehicle_model_id         43431 non-null  int64  \n",
      " 1   package_id               43431 non-null  float64\n",
      " 2   travel_type_id           43431 non-null  int64  \n",
      " 3   from_area_id             43431 non-null  float64\n",
      " 4   to_area_id               43431 non-null  float64\n",
      " 5   from_city_id             43431 non-null  float64\n",
      " 6   to_city_id               43431 non-null  float64\n",
      " 7   online_booking           43431 non-null  int64  \n",
      " 8   mobile_site_booking      43431 non-null  int64  \n",
      " 9   from_lat                 43431 non-null  float64\n",
      " 10  from_long                43431 non-null  float64\n",
      " 11  to_lat                   43431 non-null  float64\n",
      " 12  to_long                  43431 non-null  float64\n",
      " 13  Car_Cancellation         43431 non-null  int64  \n",
      " 14  from_date_month          43431 non-null  int32  \n",
      " 15  from_date_day            43431 non-null  int32  \n",
      " 16  from_date_year           43431 non-null  int32  \n",
      " 17  from_date_hour           43431 non-null  int32  \n",
      " 18  from_date_minutes        43431 non-null  int32  \n",
      " 19  booking_created_month    43431 non-null  int32  \n",
      " 20  booking_created_day      43431 non-null  int32  \n",
      " 21  booking_created_year     43431 non-null  int32  \n",
      " 22  booking_created_hour     43431 non-null  int32  \n",
      " 23  booking_created_minutes  43431 non-null  int32  \n",
      " 24  distance                 43431 non-null  float64\n",
      "dtypes: float64(10), int32(10), int64(5)\n",
      "memory usage: 6.6 MB\n"
     ]
    }
   ],
   "source": [
    "df.info()"
   ]
  },
  {
   "cell_type": "code",
   "execution_count": null,
   "id": "199dccb3-0bcb-4189-9418-b9b3460afb41",
   "metadata": {},
   "outputs": [],
   "source": []
  },
  {
   "cell_type": "code",
   "execution_count": 179,
   "id": "34202aa1-d6a7-4a23-aca2-84e69d3c250e",
   "metadata": {},
   "outputs": [],
   "source": [
    "df.drop(\"booking_created\", axis=1, inplace=True)"
   ]
  },
  {
   "cell_type": "markdown",
   "id": "9a4ee5ab-ac80-4b90-8008-e2c91bf23cd1",
   "metadata": {},
   "source": [
    "### Result:\n",
    "1. Almost everything is done data analysis to feature engineering.\n",
    "2. we have filled in all the missing values except package_id.\n",
    "3. Change the type of temporal variables."
   ]
  },
  {
   "cell_type": "markdown",
   "id": "3cbaafbd-0f0d-46e1-b350-24e90fcba864",
   "metadata": {},
   "source": [
    "## Package_id\n",
    "- For package_id first we are going calculate the distance using given latitude and longitude in KM, then we will analyz the package_id with the distance feature because package_id description says that it is based on distance e.g. 1 for 40km, 2 for 80km."
   ]
  },
  {
   "cell_type": "code",
   "execution_count": 206,
   "id": "4a4dcd7b-114f-4fae-807e-e5e343169128",
   "metadata": {},
   "outputs": [],
   "source": [
    "from math import radians, cos, sin, asin, sqrt\n",
    "def distance(lat1, lat2, lon1, lon2):\n",
    "     \n",
    "    # The math module contains a function named\n",
    "    # radians which converts from degrees to radians.\n",
    "    lon1 = radians(lon1)\n",
    "    lon2 = radians(lon2)\n",
    "    lat1 = radians(lat1)\n",
    "    lat2 = radians(lat2)\n",
    "      \n",
    "    # Haversine formula \n",
    "    dlon = lon2 - lon1 \n",
    "    dlat = lat2 - lat1\n",
    "    a = sin(dlat / 2)**2 + cos(lat1) * cos(lat2) * sin(dlon / 2)**2\n",
    " \n",
    "    c = 2 * asin(sqrt(a)) \n",
    "    \n",
    "    # Radius of earth in kilometers. Use 3956 for miles\n",
    "    r = 6371\n",
    "      \n",
    "    # calculate the result\n",
    "    return(c * r)"
   ]
  },
  {
   "cell_type": "code",
   "execution_count": 181,
   "id": "21b3cd61-8c65-4ccb-a168-93041dc2107c",
   "metadata": {},
   "outputs": [
    {
     "data": {
      "text/plain": [
       "array([[12.92415 , 12.92732 , 77.67229 , 77.63575 ],\n",
       "       [12.96691 , 12.92768 , 77.74935 , 77.62664 ],\n",
       "       [12.937222, 13.047926, 77.626915, 77.597766],\n",
       "       ...,\n",
       "       [13.07557 , 13.19956 , 77.55904 , 77.70688 ],\n",
       "       [12.96897 , 12.93823 , 77.59456 , 77.62289 ],\n",
       "       [12.97672 , 13.19956 , 77.64927 , 77.70688 ]])"
      ]
     },
     "execution_count": 181,
     "metadata": {},
     "output_type": "execute_result"
    }
   ],
   "source": [
    "df[['from_lat', 'to_lat', 'from_long', 'to_long']].values"
   ]
  },
  {
   "cell_type": "code",
   "execution_count": 182,
   "id": "5aeb22c9-24ad-4ddd-b436-26320be460dc",
   "metadata": {},
   "outputs": [],
   "source": [
    "# using above function we will calculate the distance and will create a new feature called distance\n",
    "dist = []\n",
    "for i in df[['from_lat', 'to_lat', 'from_long', 'to_long']].values:\n",
    "    di = distance(*i)\n",
    "    dist.append(di)"
   ]
  },
  {
   "cell_type": "code",
   "execution_count": 183,
   "id": "82bc9ae1-eb06-4820-8b86-f0457a09fc1f",
   "metadata": {},
   "outputs": [],
   "source": [
    "df[\"distance\"] = dist"
   ]
  },
  {
   "cell_type": "code",
   "execution_count": 184,
   "id": "178a300f-cf60-4715-9806-f7ab97b19eef",
   "metadata": {},
   "outputs": [
    {
     "data": {
      "text/html": [
       "<div>\n",
       "<style scoped>\n",
       "    .dataframe tbody tr th:only-of-type {\n",
       "        vertical-align: middle;\n",
       "    }\n",
       "\n",
       "    .dataframe tbody tr th {\n",
       "        vertical-align: top;\n",
       "    }\n",
       "\n",
       "    .dataframe thead th {\n",
       "        text-align: right;\n",
       "    }\n",
       "</style>\n",
       "<table border=\"1\" class=\"dataframe\">\n",
       "  <thead>\n",
       "    <tr style=\"text-align: right;\">\n",
       "      <th></th>\n",
       "      <th>vehicle_model_id</th>\n",
       "      <th>package_id</th>\n",
       "      <th>travel_type_id</th>\n",
       "      <th>from_area_id</th>\n",
       "      <th>to_area_id</th>\n",
       "      <th>from_city_id</th>\n",
       "      <th>to_city_id</th>\n",
       "      <th>online_booking</th>\n",
       "      <th>mobile_site_booking</th>\n",
       "      <th>from_lat</th>\n",
       "      <th>...</th>\n",
       "      <th>from_date_day</th>\n",
       "      <th>from_date_year</th>\n",
       "      <th>from_date_hour</th>\n",
       "      <th>from_date_minutes</th>\n",
       "      <th>booking_created_month</th>\n",
       "      <th>booking_created_day</th>\n",
       "      <th>booking_created_year</th>\n",
       "      <th>booking_created_hour</th>\n",
       "      <th>booking_created_minutes</th>\n",
       "      <th>distance</th>\n",
       "    </tr>\n",
       "  </thead>\n",
       "  <tbody>\n",
       "    <tr>\n",
       "      <th>0</th>\n",
       "      <td>28</td>\n",
       "      <td>NaN</td>\n",
       "      <td>2</td>\n",
       "      <td>83.0</td>\n",
       "      <td>448.0</td>\n",
       "      <td>15.0</td>\n",
       "      <td>49.0</td>\n",
       "      <td>0</td>\n",
       "      <td>0</td>\n",
       "      <td>12.92415</td>\n",
       "      <td>...</td>\n",
       "      <td>01</td>\n",
       "      <td>2013</td>\n",
       "      <td>02</td>\n",
       "      <td>00</td>\n",
       "      <td>01</td>\n",
       "      <td>01</td>\n",
       "      <td>2013</td>\n",
       "      <td>01</td>\n",
       "      <td>39</td>\n",
       "      <td>3.975764</td>\n",
       "    </tr>\n",
       "    <tr>\n",
       "      <th>1</th>\n",
       "      <td>12</td>\n",
       "      <td>NaN</td>\n",
       "      <td>2</td>\n",
       "      <td>1010.0</td>\n",
       "      <td>540.0</td>\n",
       "      <td>15.0</td>\n",
       "      <td>49.0</td>\n",
       "      <td>0</td>\n",
       "      <td>0</td>\n",
       "      <td>12.96691</td>\n",
       "      <td>...</td>\n",
       "      <td>01</td>\n",
       "      <td>2013</td>\n",
       "      <td>09</td>\n",
       "      <td>00</td>\n",
       "      <td>01</td>\n",
       "      <td>01</td>\n",
       "      <td>2013</td>\n",
       "      <td>02</td>\n",
       "      <td>25</td>\n",
       "      <td>13.995033</td>\n",
       "    </tr>\n",
       "  </tbody>\n",
       "</table>\n",
       "<p>2 rows × 25 columns</p>\n",
       "</div>"
      ],
      "text/plain": [
       "   vehicle_model_id  package_id  travel_type_id  from_area_id  to_area_id  \\\n",
       "0                28         NaN               2          83.0       448.0   \n",
       "1                12         NaN               2        1010.0       540.0   \n",
       "\n",
       "   from_city_id  to_city_id  online_booking  mobile_site_booking  from_lat  \\\n",
       "0          15.0        49.0               0                    0  12.92415   \n",
       "1          15.0        49.0               0                    0  12.96691   \n",
       "\n",
       "   ...  from_date_day  from_date_year  from_date_hour  from_date_minutes  \\\n",
       "0  ...             01            2013              02                 00   \n",
       "1  ...             01            2013              09                 00   \n",
       "\n",
       "  booking_created_month booking_created_day booking_created_year  \\\n",
       "0                    01                  01                 2013   \n",
       "1                    01                  01                 2013   \n",
       "\n",
       "  booking_created_hour booking_created_minutes   distance  \n",
       "0                   01                      39   3.975764  \n",
       "1                   02                      25  13.995033  \n",
       "\n",
       "[2 rows x 25 columns]"
      ]
     },
     "execution_count": 184,
     "metadata": {},
     "output_type": "execute_result"
    }
   ],
   "source": [
    "df.head(2)"
   ]
  },
  {
   "cell_type": "code",
   "execution_count": 185,
   "id": "37c9117f-f945-4570-afdf-f8e8b58c361e",
   "metadata": {},
   "outputs": [
    {
     "data": {
      "text/plain": [
       "59.841841776299894"
      ]
     },
     "execution_count": 185,
     "metadata": {},
     "output_type": "execute_result"
    }
   ],
   "source": [
    "df[\"distance\"].max()"
   ]
  },
  {
   "cell_type": "code",
   "execution_count": 186,
   "id": "97de2425-63d6-4ffd-b107-42a9edc2a51e",
   "metadata": {},
   "outputs": [
    {
     "data": {
      "text/plain": [
       "<Axes: xlabel='package_id', ylabel='distance'>"
      ]
     },
     "execution_count": 186,
     "metadata": {},
     "output_type": "execute_result"
    },
    {
     "data": {
      "image/png": "[encoded data removed]",
      "text/plain": [
       "<Figure size 640x480 with 1 Axes>"
      ]
     },
     "metadata": {},
     "output_type": "display_data"
    }
   ],
   "source": [
    "sns.boxplot(x=df[\"package_id\"], y = df[\"distance\"])"
   ]
  },
  {
   "cell_type": "code",
   "execution_count": 53,
   "id": "0e93f1ca-4c3d-4b24-a139-8af1a9b73ca1",
   "metadata": {},
   "outputs": [
    {
     "ename": "AttributeError",
     "evalue": "'numpy.int64' object has no attribute 'startswith'",
     "output_type": "error",
     "traceback": [
      "\u001b[1;31m---------------------------------------------------------------------------\u001b[0m",
      "\u001b[1;31mAttributeError\u001b[0m                            Traceback (most recent call last)",
      "Cell \u001b[1;32mIn[53], line 1\u001b[0m\n\u001b[1;32m----> 1\u001b[0m sns\u001b[38;5;241m.\u001b[39mcountplot(x \u001b[38;5;241m=\u001b[39m df[\u001b[38;5;124m\"\u001b[39m\u001b[38;5;124mpackage_id\u001b[39m\u001b[38;5;124m\"\u001b[39m], hue\u001b[38;5;241m=\u001b[39mdf[\u001b[38;5;124m\"\u001b[39m\u001b[38;5;124mCar_Cancellation\u001b[39m\u001b[38;5;124m\"\u001b[39m])\n",
      "File \u001b[1;32m~\\miniconda3\\envs\\env\\Lib\\site-packages\\seaborn\\categorical.py:2955\u001b[0m, in \u001b[0;36mcountplot\u001b[1;34m(data, x, y, hue, order, hue_order, orient, color, palette, saturation, width, dodge, ax, **kwargs)\u001b[0m\n\u001b[0;32m   2952\u001b[0m \u001b[38;5;28;01mif\u001b[39;00m ax \u001b[38;5;129;01mis\u001b[39;00m \u001b[38;5;28;01mNone\u001b[39;00m:\n\u001b[0;32m   2953\u001b[0m     ax \u001b[38;5;241m=\u001b[39m plt\u001b[38;5;241m.\u001b[39mgca()\n\u001b[1;32m-> 2955\u001b[0m plotter\u001b[38;5;241m.\u001b[39mplot(ax, kwargs)\n\u001b[0;32m   2956\u001b[0m \u001b[38;5;28;01mreturn\u001b[39;00m ax\n",
      "File \u001b[1;32m~\\miniconda3\\envs\\env\\Lib\\site-packages\\seaborn\\categorical.py:1587\u001b[0m, in \u001b[0;36m_BarPlotter.plot\u001b[1;34m(self, ax, bar_kws)\u001b[0m\n\u001b[0;32m   1585\u001b[0m \u001b[38;5;250m\u001b[39m\u001b[38;5;124;03m\"\"\"Make the plot.\"\"\"\u001b[39;00m\n\u001b[0;32m   1586\u001b[0m \u001b[38;5;28mself\u001b[39m\u001b[38;5;241m.\u001b[39mdraw_bars(ax, bar_kws)\n\u001b[1;32m-> 1587\u001b[0m \u001b[38;5;28mself\u001b[39m\u001b[38;5;241m.\u001b[39mannotate_axes(ax)\n\u001b[0;32m   1588\u001b[0m \u001b[38;5;28;01mif\u001b[39;00m \u001b[38;5;28mself\u001b[39m\u001b[38;5;241m.\u001b[39morient \u001b[38;5;241m==\u001b[39m \u001b[38;5;124m\"\u001b[39m\u001b[38;5;124mh\u001b[39m\u001b[38;5;124m\"\u001b[39m:\n\u001b[0;32m   1589\u001b[0m     ax\u001b[38;5;241m.\u001b[39minvert_yaxis()\n",
      "File \u001b[1;32m~\\miniconda3\\envs\\env\\Lib\\site-packages\\seaborn\\categorical.py:767\u001b[0m, in \u001b[0;36m_CategoricalPlotter.annotate_axes\u001b[1;34m(self, ax)\u001b[0m\n\u001b[0;32m    764\u001b[0m     ax\u001b[38;5;241m.\u001b[39mset_ylim(\u001b[38;5;241m-\u001b[39m\u001b[38;5;241m.5\u001b[39m, \u001b[38;5;28mlen\u001b[39m(\u001b[38;5;28mself\u001b[39m\u001b[38;5;241m.\u001b[39mplot_data) \u001b[38;5;241m-\u001b[39m \u001b[38;5;241m.5\u001b[39m, auto\u001b[38;5;241m=\u001b[39m\u001b[38;5;28;01mNone\u001b[39;00m)\n\u001b[0;32m    766\u001b[0m \u001b[38;5;28;01mif\u001b[39;00m \u001b[38;5;28mself\u001b[39m\u001b[38;5;241m.\u001b[39mhue_names \u001b[38;5;129;01mis\u001b[39;00m \u001b[38;5;129;01mnot\u001b[39;00m \u001b[38;5;28;01mNone\u001b[39;00m:\n\u001b[1;32m--> 767\u001b[0m     ax\u001b[38;5;241m.\u001b[39mlegend(loc\u001b[38;5;241m=\u001b[39m\u001b[38;5;124m\"\u001b[39m\u001b[38;5;124mbest\u001b[39m\u001b[38;5;124m\"\u001b[39m, title\u001b[38;5;241m=\u001b[39m\u001b[38;5;28mself\u001b[39m\u001b[38;5;241m.\u001b[39mhue_title)\n",
      "File \u001b[1;32m~\\miniconda3\\envs\\env\\Lib\\site-packages\\matplotlib\\axes\\_axes.py:322\u001b[0m, in \u001b[0;36mAxes.legend\u001b[1;34m(self, *args, **kwargs)\u001b[0m\n\u001b[0;32m    204\u001b[0m \u001b[38;5;129m@_docstring\u001b[39m\u001b[38;5;241m.\u001b[39mdedent_interpd\n\u001b[0;32m    205\u001b[0m \u001b[38;5;28;01mdef\u001b[39;00m \u001b[38;5;21mlegend\u001b[39m(\u001b[38;5;28mself\u001b[39m, \u001b[38;5;241m*\u001b[39margs, \u001b[38;5;241m*\u001b[39m\u001b[38;5;241m*\u001b[39mkwargs):\n\u001b[0;32m    206\u001b[0m \u001b[38;5;250m    \u001b[39m\u001b[38;5;124;03m\"\"\"\u001b[39;00m\n\u001b[0;32m    207\u001b[0m \u001b[38;5;124;03m    Place a legend on the Axes.\u001b[39;00m\n\u001b[0;32m    208\u001b[0m \n\u001b[1;32m   (...)\u001b[0m\n\u001b[0;32m    320\u001b[0m \u001b[38;5;124;03m    .. plot:: gallery/text_labels_and_annotations/legend.py\u001b[39;00m\n\u001b[0;32m    321\u001b[0m \u001b[38;5;124;03m    \"\"\"\u001b[39;00m\n\u001b[1;32m--> 322\u001b[0m     handles, labels, kwargs \u001b[38;5;241m=\u001b[39m mlegend\u001b[38;5;241m.\u001b[39m_parse_legend_args([\u001b[38;5;28mself\u001b[39m], \u001b[38;5;241m*\u001b[39margs, \u001b[38;5;241m*\u001b[39m\u001b[38;5;241m*\u001b[39mkwargs)\n\u001b[0;32m    323\u001b[0m     \u001b[38;5;28mself\u001b[39m\u001b[38;5;241m.\u001b[39mlegend_ \u001b[38;5;241m=\u001b[39m mlegend\u001b[38;5;241m.\u001b[39mLegend(\u001b[38;5;28mself\u001b[39m, handles, labels, \u001b[38;5;241m*\u001b[39m\u001b[38;5;241m*\u001b[39mkwargs)\n\u001b[0;32m    324\u001b[0m     \u001b[38;5;28mself\u001b[39m\u001b[38;5;241m.\u001b[39mlegend_\u001b[38;5;241m.\u001b[39m_remove_method \u001b[38;5;241m=\u001b[39m \u001b[38;5;28mself\u001b[39m\u001b[38;5;241m.\u001b[39m_remove_legend\n",
      "File \u001b[1;32m~\\miniconda3\\envs\\env\\Lib\\site-packages\\matplotlib\\legend.py:1361\u001b[0m, in \u001b[0;36m_parse_legend_args\u001b[1;34m(axs, handles, labels, *args, **kwargs)\u001b[0m\n\u001b[0;32m   1357\u001b[0m     handles \u001b[38;5;241m=\u001b[39m [handle \u001b[38;5;28;01mfor\u001b[39;00m handle, label\n\u001b[0;32m   1358\u001b[0m                \u001b[38;5;129;01min\u001b[39;00m \u001b[38;5;28mzip\u001b[39m(_get_legend_handles(axs, handlers), labels)]\n\u001b[0;32m   1360\u001b[0m \u001b[38;5;28;01melif\u001b[39;00m \u001b[38;5;28mlen\u001b[39m(args) \u001b[38;5;241m==\u001b[39m \u001b[38;5;241m0\u001b[39m:  \u001b[38;5;66;03m# 0 args: automatically detect labels and handles.\u001b[39;00m\n\u001b[1;32m-> 1361\u001b[0m     handles, labels \u001b[38;5;241m=\u001b[39m _get_legend_handles_labels(axs, handlers)\n\u001b[0;32m   1362\u001b[0m     \u001b[38;5;28;01mif\u001b[39;00m \u001b[38;5;129;01mnot\u001b[39;00m handles:\n\u001b[0;32m   1363\u001b[0m         log\u001b[38;5;241m.\u001b[39mwarning(\n\u001b[0;32m   1364\u001b[0m             \u001b[38;5;124m\"\u001b[39m\u001b[38;5;124mNo artists with labels found to put in legend.  Note that \u001b[39m\u001b[38;5;124m\"\u001b[39m\n\u001b[0;32m   1365\u001b[0m             \u001b[38;5;124m\"\u001b[39m\u001b[38;5;124martists whose label start with an underscore are ignored \u001b[39m\u001b[38;5;124m\"\u001b[39m\n\u001b[0;32m   1366\u001b[0m             \u001b[38;5;124m\"\u001b[39m\u001b[38;5;124mwhen legend() is called with no argument.\u001b[39m\u001b[38;5;124m\"\u001b[39m)\n",
      "File \u001b[1;32m~\\miniconda3\\envs\\env\\Lib\\site-packages\\matplotlib\\legend.py:1291\u001b[0m, in \u001b[0;36m_get_legend_handles_labels\u001b[1;34m(axs, legend_handler_map)\u001b[0m\n\u001b[0;32m   1289\u001b[0m \u001b[38;5;28;01mfor\u001b[39;00m handle \u001b[38;5;129;01min\u001b[39;00m _get_legend_handles(axs, legend_handler_map):\n\u001b[0;32m   1290\u001b[0m     label \u001b[38;5;241m=\u001b[39m handle\u001b[38;5;241m.\u001b[39mget_label()\n\u001b[1;32m-> 1291\u001b[0m     \u001b[38;5;28;01mif\u001b[39;00m label \u001b[38;5;129;01mand\u001b[39;00m \u001b[38;5;129;01mnot\u001b[39;00m label\u001b[38;5;241m.\u001b[39mstartswith(\u001b[38;5;124m'\u001b[39m\u001b[38;5;124m_\u001b[39m\u001b[38;5;124m'\u001b[39m):\n\u001b[0;32m   1292\u001b[0m         handles\u001b[38;5;241m.\u001b[39mappend(handle)\n\u001b[0;32m   1293\u001b[0m         labels\u001b[38;5;241m.\u001b[39mappend(label)\n",
      "\u001b[1;31mAttributeError\u001b[0m: 'numpy.int64' object has no attribute 'startswith'"
     ]
    },
    {
     "data": {
      "image/png": "[encoded data removed]",
      "text/plain": [
       "<Figure size 640x480 with 1 Axes>"
      ]
     },
     "metadata": {},
     "output_type": "display_data"
    }
   ],
   "source": [
    "sns.countplot(x = df[\"package_id\"], hue=df[\"Car_Cancellation\"])"
   ]
  },
  {
   "cell_type": "code",
   "execution_count": 187,
   "id": "946c8ae0-5c32-4035-a220-fdda26b3f63d",
   "metadata": {},
   "outputs": [
    {
     "data": {
      "text/plain": [
       "package_id\n",
       "1.0    3503\n",
       "2.0    2651\n",
       "6.0     502\n",
       "4.0     412\n",
       "3.0     375\n",
       "7.0     101\n",
       "5.0       6\n",
       "Name: count, dtype: int64"
      ]
     },
     "execution_count": 187,
     "metadata": {},
     "output_type": "execute_result"
    }
   ],
   "source": [
    "df[\"package_id\"].value_counts()"
   ]
  },
  {
   "cell_type": "code",
   "execution_count": 188,
   "id": "4ffc1172-d7ee-45ee-ad23-d8d78c06e3ea",
   "metadata": {},
   "outputs": [
    {
     "data": {
      "text/plain": [
       "35881"
      ]
     },
     "execution_count": 188,
     "metadata": {},
     "output_type": "execute_result"
    }
   ],
   "source": [
    "df[\"package_id\"].isna().sum()"
   ]
  },
  {
   "cell_type": "code",
   "execution_count": 189,
   "id": "4f3b51a6-000a-4852-99cd-dbf5cdef1cc4",
   "metadata": {},
   "outputs": [
    {
     "data": {
      "text/plain": [
       "travel_type_id\n",
       "2    34292\n",
       "3     7550\n",
       "1     1589\n",
       "Name: count, dtype: int64"
      ]
     },
     "execution_count": 189,
     "metadata": {},
     "output_type": "execute_result"
    }
   ],
   "source": [
    "df[\"travel_type_id\"].value_counts()"
   ]
  },
  {
   "cell_type": "code",
   "execution_count": 190,
   "id": "7e5ad60a-b7a4-4f13-a00a-0417768239d3",
   "metadata": {},
   "outputs": [],
   "source": [
    "df[\"package_id\"] = df[\"package_id\"].fillna(1.0)"
   ]
  },
  {
   "cell_type": "code",
   "execution_count": 191,
   "id": "51277fe2-9ae2-4d24-bc85-69bddb14b993",
   "metadata": {},
   "outputs": [
    {
     "data": {
      "text/plain": [
       "vehicle_model_id           0\n",
       "package_id                 0\n",
       "travel_type_id             0\n",
       "from_area_id               0\n",
       "to_area_id                 0\n",
       "from_city_id               0\n",
       "to_city_id                 0\n",
       "online_booking             0\n",
       "mobile_site_booking        0\n",
       "from_lat                   0\n",
       "from_long                  0\n",
       "to_lat                     0\n",
       "to_long                    0\n",
       "Car_Cancellation           0\n",
       "from_date_month            0\n",
       "from_date_day              0\n",
       "from_date_year             0\n",
       "from_date_hour             0\n",
       "from_date_minutes          0\n",
       "booking_created_month      0\n",
       "booking_created_day        0\n",
       "booking_created_year       0\n",
       "booking_created_hour       0\n",
       "booking_created_minutes    0\n",
       "distance                   0\n",
       "dtype: int64"
      ]
     },
     "execution_count": 191,
     "metadata": {},
     "output_type": "execute_result"
    }
   ],
   "source": [
    "df.isna().sum()"
   ]
  },
  {
   "cell_type": "code",
   "execution_count": 192,
   "id": "af2e5488-7ac5-48cf-a393-de93367b8727",
   "metadata": {},
   "outputs": [],
   "source": [
    "#droping distance feature\n",
    "# df.drop(\"distance\", axis=1,inplace=True)"
   ]
  },
  {
   "cell_type": "markdown",
   "id": "adf268b4-8852-4e40-902e-787e726d792b",
   "metadata": {},
   "source": [
    "#### Package_id Observation:\n",
    "- We have calculated the distance but the max distance covered by cab is approx 60km.\n",
    "- We haven't found any relation with distance and package_id.\n",
    "- We have checked the relation with our target variable.\n",
    "- We have also checked the relation with travel_type_id and we have found that people mostly book cabs for point to point travel and the most occurance of value present in package_id is 1.0 and 1.0 means 40km so, we have filled the package_id value 1.0."
   ]
  },
  {
   "cell_type": "code",
   "execution_count": 207,
   "id": "907ab8c2-8844-4c7d-98f5-73018e56def4",
   "metadata": {},
   "outputs": [
    {
     "data": {
      "text/html": [
       "<div>\n",
       "<style scoped>\n",
       "    .dataframe tbody tr th:only-of-type {\n",
       "        vertical-align: middle;\n",
       "    }\n",
       "\n",
       "    .dataframe tbody tr th {\n",
       "        vertical-align: top;\n",
       "    }\n",
       "\n",
       "    .dataframe thead th {\n",
       "        text-align: right;\n",
       "    }\n",
       "</style>\n",
       "<table border=\"1\" class=\"dataframe\">\n",
       "  <thead>\n",
       "    <tr style=\"text-align: right;\">\n",
       "      <th></th>\n",
       "      <th>vehicle_model_id</th>\n",
       "      <th>package_id</th>\n",
       "      <th>travel_type_id</th>\n",
       "      <th>from_area_id</th>\n",
       "      <th>to_area_id</th>\n",
       "      <th>from_city_id</th>\n",
       "      <th>to_city_id</th>\n",
       "      <th>online_booking</th>\n",
       "      <th>mobile_site_booking</th>\n",
       "      <th>from_lat</th>\n",
       "      <th>...</th>\n",
       "      <th>from_date_day</th>\n",
       "      <th>from_date_year</th>\n",
       "      <th>from_date_hour</th>\n",
       "      <th>from_date_minutes</th>\n",
       "      <th>booking_created_month</th>\n",
       "      <th>booking_created_day</th>\n",
       "      <th>booking_created_year</th>\n",
       "      <th>booking_created_hour</th>\n",
       "      <th>booking_created_minutes</th>\n",
       "      <th>distance</th>\n",
       "    </tr>\n",
       "  </thead>\n",
       "  <tbody>\n",
       "    <tr>\n",
       "      <th>vehicle_model_id</th>\n",
       "      <td>1.000000</td>\n",
       "      <td>0.025990</td>\n",
       "      <td>-0.034539</td>\n",
       "      <td>-0.023571</td>\n",
       "      <td>-0.042143</td>\n",
       "      <td>-0.031214</td>\n",
       "      <td>0.042105</td>\n",
       "      <td>0.015371</td>\n",
       "      <td>-0.006961</td>\n",
       "      <td>0.057025</td>\n",
       "      <td>...</td>\n",
       "      <td>0.005133</td>\n",
       "      <td>-0.004254</td>\n",
       "      <td>-0.010376</td>\n",
       "      <td>-0.021140</td>\n",
       "      <td>0.059808</td>\n",
       "      <td>0.000195</td>\n",
       "      <td>NaN</td>\n",
       "      <td>-0.011271</td>\n",
       "      <td>-0.001352</td>\n",
       "      <td>0.077159</td>\n",
       "    </tr>\n",
       "    <tr>\n",
       "      <th>package_id</th>\n",
       "      <td>0.025990</td>\n",
       "      <td>1.000000</td>\n",
       "      <td>0.487682</td>\n",
       "      <td>0.006250</td>\n",
       "      <td>-0.069762</td>\n",
       "      <td>0.011043</td>\n",
       "      <td>-0.017302</td>\n",
       "      <td>-0.042666</td>\n",
       "      <td>-0.028668</td>\n",
       "      <td>-0.059091</td>\n",
       "      <td>...</td>\n",
       "      <td>0.005082</td>\n",
       "      <td>-0.002056</td>\n",
       "      <td>-0.071555</td>\n",
       "      <td>-0.026452</td>\n",
       "      <td>0.150480</td>\n",
       "      <td>-0.004010</td>\n",
       "      <td>NaN</td>\n",
       "      <td>0.013694</td>\n",
       "      <td>-0.012700</td>\n",
       "      <td>0.198065</td>\n",
       "    </tr>\n",
       "    <tr>\n",
       "      <th>travel_type_id</th>\n",
       "      <td>-0.034539</td>\n",
       "      <td>0.487682</td>\n",
       "      <td>1.000000</td>\n",
       "      <td>0.026319</td>\n",
       "      <td>-0.088492</td>\n",
       "      <td>0.115965</td>\n",
       "      <td>-0.181687</td>\n",
       "      <td>-0.069832</td>\n",
       "      <td>-0.022955</td>\n",
       "      <td>-0.093810</td>\n",
       "      <td>...</td>\n",
       "      <td>0.002893</td>\n",
       "      <td>-0.008936</td>\n",
       "      <td>0.033015</td>\n",
       "      <td>-0.005083</td>\n",
       "      <td>0.005512</td>\n",
       "      <td>-0.001167</td>\n",
       "      <td>NaN</td>\n",
       "      <td>-0.046389</td>\n",
       "      <td>-0.006651</td>\n",
       "      <td>0.277594</td>\n",
       "    </tr>\n",
       "    <tr>\n",
       "      <th>from_area_id</th>\n",
       "      <td>-0.023571</td>\n",
       "      <td>0.006250</td>\n",
       "      <td>0.026319</td>\n",
       "      <td>1.000000</td>\n",
       "      <td>0.006234</td>\n",
       "      <td>0.011608</td>\n",
       "      <td>-0.007848</td>\n",
       "      <td>0.015397</td>\n",
       "      <td>-0.010361</td>\n",
       "      <td>-0.110502</td>\n",
       "      <td>...</td>\n",
       "      <td>0.013833</td>\n",
       "      <td>-0.000098</td>\n",
       "      <td>-0.005615</td>\n",
       "      <td>-0.012759</td>\n",
       "      <td>0.022036</td>\n",
       "      <td>0.015791</td>\n",
       "      <td>NaN</td>\n",
       "      <td>-0.005092</td>\n",
       "      <td>0.006082</td>\n",
       "      <td>-0.083567</td>\n",
       "    </tr>\n",
       "    <tr>\n",
       "      <th>to_area_id</th>\n",
       "      <td>-0.042143</td>\n",
       "      <td>-0.069762</td>\n",
       "      <td>-0.088492</td>\n",
       "      <td>0.006234</td>\n",
       "      <td>1.000000</td>\n",
       "      <td>0.012584</td>\n",
       "      <td>-0.019717</td>\n",
       "      <td>0.010430</td>\n",
       "      <td>-0.006913</td>\n",
       "      <td>0.048673</td>\n",
       "      <td>...</td>\n",
       "      <td>0.002289</td>\n",
       "      <td>0.001167</td>\n",
       "      <td>0.111027</td>\n",
       "      <td>0.023901</td>\n",
       "      <td>0.021689</td>\n",
       "      <td>0.010938</td>\n",
       "      <td>NaN</td>\n",
       "      <td>-0.008068</td>\n",
       "      <td>0.011199</td>\n",
       "      <td>-0.263196</td>\n",
       "    </tr>\n",
       "    <tr>\n",
       "      <th>from_city_id</th>\n",
       "      <td>-0.031214</td>\n",
       "      <td>0.011043</td>\n",
       "      <td>0.115965</td>\n",
       "      <td>0.011608</td>\n",
       "      <td>0.012584</td>\n",
       "      <td>1.000000</td>\n",
       "      <td>-0.081066</td>\n",
       "      <td>-0.062363</td>\n",
       "      <td>0.005694</td>\n",
       "      <td>-0.024428</td>\n",
       "      <td>...</td>\n",
       "      <td>-0.006731</td>\n",
       "      <td>0.000371</td>\n",
       "      <td>0.030024</td>\n",
       "      <td>0.021781</td>\n",
       "      <td>0.035095</td>\n",
       "      <td>-0.001288</td>\n",
       "      <td>NaN</td>\n",
       "      <td>0.001477</td>\n",
       "      <td>-0.005806</td>\n",
       "      <td>-0.003031</td>\n",
       "    </tr>\n",
       "    <tr>\n",
       "      <th>to_city_id</th>\n",
       "      <td>0.042105</td>\n",
       "      <td>-0.017302</td>\n",
       "      <td>-0.181687</td>\n",
       "      <td>-0.007848</td>\n",
       "      <td>-0.019717</td>\n",
       "      <td>-0.081066</td>\n",
       "      <td>1.000000</td>\n",
       "      <td>0.005256</td>\n",
       "      <td>-0.002345</td>\n",
       "      <td>0.004278</td>\n",
       "      <td>...</td>\n",
       "      <td>-0.002851</td>\n",
       "      <td>0.021657</td>\n",
       "      <td>-0.045727</td>\n",
       "      <td>-0.041375</td>\n",
       "      <td>-0.001811</td>\n",
       "      <td>-0.000263</td>\n",
       "      <td>NaN</td>\n",
       "      <td>-0.006957</td>\n",
       "      <td>0.005526</td>\n",
       "      <td>0.035677</td>\n",
       "    </tr>\n",
       "    <tr>\n",
       "      <th>online_booking</th>\n",
       "      <td>0.015371</td>\n",
       "      <td>-0.042666</td>\n",
       "      <td>-0.069832</td>\n",
       "      <td>0.015397</td>\n",
       "      <td>0.010430</td>\n",
       "      <td>-0.062363</td>\n",
       "      <td>0.005256</td>\n",
       "      <td>1.000000</td>\n",
       "      <td>-0.156546</td>\n",
       "      <td>0.042696</td>\n",
       "      <td>...</td>\n",
       "      <td>-0.004597</td>\n",
       "      <td>-0.000318</td>\n",
       "      <td>-0.031959</td>\n",
       "      <td>0.017375</td>\n",
       "      <td>0.106877</td>\n",
       "      <td>-0.005183</td>\n",
       "      <td>NaN</td>\n",
       "      <td>0.064584</td>\n",
       "      <td>-0.003297</td>\n",
       "      <td>0.058111</td>\n",
       "    </tr>\n",
       "    <tr>\n",
       "      <th>mobile_site_booking</th>\n",
       "      <td>-0.006961</td>\n",
       "      <td>-0.028668</td>\n",
       "      <td>-0.022955</td>\n",
       "      <td>-0.010361</td>\n",
       "      <td>-0.006913</td>\n",
       "      <td>0.005694</td>\n",
       "      <td>-0.002345</td>\n",
       "      <td>-0.156546</td>\n",
       "      <td>1.000000</td>\n",
       "      <td>0.035412</td>\n",
       "      <td>...</td>\n",
       "      <td>0.000620</td>\n",
       "      <td>-0.001767</td>\n",
       "      <td>0.005322</td>\n",
       "      <td>0.017017</td>\n",
       "      <td>0.092803</td>\n",
       "      <td>-0.002577</td>\n",
       "      <td>NaN</td>\n",
       "      <td>0.023631</td>\n",
       "      <td>0.000102</td>\n",
       "      <td>0.004945</td>\n",
       "    </tr>\n",
       "    <tr>\n",
       "      <th>from_lat</th>\n",
       "      <td>0.057025</td>\n",
       "      <td>-0.059091</td>\n",
       "      <td>-0.093810</td>\n",
       "      <td>-0.110502</td>\n",
       "      <td>0.048673</td>\n",
       "      <td>-0.024428</td>\n",
       "      <td>0.004278</td>\n",
       "      <td>0.042696</td>\n",
       "      <td>0.035412</td>\n",
       "      <td>1.000000</td>\n",
       "      <td>...</td>\n",
       "      <td>0.006214</td>\n",
       "      <td>0.008184</td>\n",
       "      <td>0.060761</td>\n",
       "      <td>0.041887</td>\n",
       "      <td>0.043010</td>\n",
       "      <td>0.006837</td>\n",
       "      <td>NaN</td>\n",
       "      <td>-0.009024</td>\n",
       "      <td>0.005298</td>\n",
       "      <td>0.013864</td>\n",
       "    </tr>\n",
       "    <tr>\n",
       "      <th>from_long</th>\n",
       "      <td>0.022325</td>\n",
       "      <td>0.006386</td>\n",
       "      <td>-0.023469</td>\n",
       "      <td>-0.095192</td>\n",
       "      <td>0.019778</td>\n",
       "      <td>-0.012374</td>\n",
       "      <td>0.015474</td>\n",
       "      <td>0.070436</td>\n",
       "      <td>0.003411</td>\n",
       "      <td>0.216051</td>\n",
       "      <td>...</td>\n",
       "      <td>0.003306</td>\n",
       "      <td>0.001541</td>\n",
       "      <td>0.043510</td>\n",
       "      <td>0.002423</td>\n",
       "      <td>0.031463</td>\n",
       "      <td>-0.004933</td>\n",
       "      <td>NaN</td>\n",
       "      <td>-0.008241</td>\n",
       "      <td>-0.001442</td>\n",
       "      <td>0.057591</td>\n",
       "    </tr>\n",
       "    <tr>\n",
       "      <th>to_lat</th>\n",
       "      <td>0.082232</td>\n",
       "      <td>0.274572</td>\n",
       "      <td>0.348084</td>\n",
       "      <td>0.006621</td>\n",
       "      <td>-0.300587</td>\n",
       "      <td>-0.049530</td>\n",
       "      <td>0.077602</td>\n",
       "      <td>0.019311</td>\n",
       "      <td>-0.030953</td>\n",
       "      <td>-0.186701</td>\n",
       "      <td>...</td>\n",
       "      <td>0.002132</td>\n",
       "      <td>0.005459</td>\n",
       "      <td>-0.249883</td>\n",
       "      <td>-0.077970</td>\n",
       "      <td>0.028402</td>\n",
       "      <td>-0.001011</td>\n",
       "      <td>NaN</td>\n",
       "      <td>0.001230</td>\n",
       "      <td>0.000392</td>\n",
       "      <td>0.609986</td>\n",
       "    </tr>\n",
       "    <tr>\n",
       "      <th>to_long</th>\n",
       "      <td>0.068932</td>\n",
       "      <td>0.205559</td>\n",
       "      <td>0.260568</td>\n",
       "      <td>0.006421</td>\n",
       "      <td>-0.307519</td>\n",
       "      <td>-0.037081</td>\n",
       "      <td>0.058097</td>\n",
       "      <td>-0.006233</td>\n",
       "      <td>-0.009063</td>\n",
       "      <td>-0.085646</td>\n",
       "      <td>...</td>\n",
       "      <td>0.003789</td>\n",
       "      <td>0.002167</td>\n",
       "      <td>-0.224550</td>\n",
       "      <td>-0.042589</td>\n",
       "      <td>0.031627</td>\n",
       "      <td>-0.004390</td>\n",
       "      <td>NaN</td>\n",
       "      <td>-0.000074</td>\n",
       "      <td>0.002696</td>\n",
       "      <td>0.455979</td>\n",
       "    </tr>\n",
       "    <tr>\n",
       "      <th>Car_Cancellation</th>\n",
       "      <td>-0.045244</td>\n",
       "      <td>-0.006375</td>\n",
       "      <td>-0.023360</td>\n",
       "      <td>0.011466</td>\n",
       "      <td>0.070850</td>\n",
       "      <td>0.012443</td>\n",
       "      <td>-0.016541</td>\n",
       "      <td>0.149476</td>\n",
       "      <td>0.067204</td>\n",
       "      <td>-0.075988</td>\n",
       "      <td>...</td>\n",
       "      <td>-0.018526</td>\n",
       "      <td>-0.002317</td>\n",
       "      <td>0.101207</td>\n",
       "      <td>0.007925</td>\n",
       "      <td>0.133643</td>\n",
       "      <td>0.001882</td>\n",
       "      <td>NaN</td>\n",
       "      <td>-0.000672</td>\n",
       "      <td>0.007067</td>\n",
       "      <td>-0.133595</td>\n",
       "    </tr>\n",
       "    <tr>\n",
       "      <th>from_date_month</th>\n",
       "      <td>0.060011</td>\n",
       "      <td>0.147186</td>\n",
       "      <td>0.000760</td>\n",
       "      <td>0.022078</td>\n",
       "      <td>0.024818</td>\n",
       "      <td>0.033761</td>\n",
       "      <td>-0.001685</td>\n",
       "      <td>0.103908</td>\n",
       "      <td>0.089996</td>\n",
       "      <td>0.045161</td>\n",
       "      <td>...</td>\n",
       "      <td>-0.046261</td>\n",
       "      <td>-0.013574</td>\n",
       "      <td>-0.033417</td>\n",
       "      <td>0.002428</td>\n",
       "      <td>0.996731</td>\n",
       "      <td>-0.003348</td>\n",
       "      <td>NaN</td>\n",
       "      <td>-0.002400</td>\n",
       "      <td>0.008523</td>\n",
       "      <td>0.017992</td>\n",
       "    </tr>\n",
       "    <tr>\n",
       "      <th>from_date_day</th>\n",
       "      <td>0.005133</td>\n",
       "      <td>0.005082</td>\n",
       "      <td>0.002893</td>\n",
       "      <td>0.013833</td>\n",
       "      <td>0.002289</td>\n",
       "      <td>-0.006731</td>\n",
       "      <td>-0.002851</td>\n",
       "      <td>-0.004597</td>\n",
       "      <td>0.000620</td>\n",
       "      <td>0.006214</td>\n",
       "      <td>...</td>\n",
       "      <td>1.000000</td>\n",
       "      <td>-0.008157</td>\n",
       "      <td>0.001145</td>\n",
       "      <td>-0.000609</td>\n",
       "      <td>-0.031384</td>\n",
       "      <td>0.787707</td>\n",
       "      <td>NaN</td>\n",
       "      <td>-0.003038</td>\n",
       "      <td>0.001563</td>\n",
       "      <td>-0.008004</td>\n",
       "    </tr>\n",
       "    <tr>\n",
       "      <th>from_date_year</th>\n",
       "      <td>-0.004254</td>\n",
       "      <td>-0.002056</td>\n",
       "      <td>-0.008936</td>\n",
       "      <td>-0.000098</td>\n",
       "      <td>0.001167</td>\n",
       "      <td>0.000371</td>\n",
       "      <td>0.021657</td>\n",
       "      <td>-0.000318</td>\n",
       "      <td>-0.001767</td>\n",
       "      <td>0.008184</td>\n",
       "      <td>...</td>\n",
       "      <td>-0.008157</td>\n",
       "      <td>1.000000</td>\n",
       "      <td>-0.005495</td>\n",
       "      <td>-0.001657</td>\n",
       "      <td>0.013048</td>\n",
       "      <td>-0.000669</td>\n",
       "      <td>NaN</td>\n",
       "      <td>0.000464</td>\n",
       "      <td>0.002211</td>\n",
       "      <td>0.003140</td>\n",
       "    </tr>\n",
       "    <tr>\n",
       "      <th>from_date_hour</th>\n",
       "      <td>-0.010376</td>\n",
       "      <td>-0.071555</td>\n",
       "      <td>0.033015</td>\n",
       "      <td>-0.005615</td>\n",
       "      <td>0.111027</td>\n",
       "      <td>0.030024</td>\n",
       "      <td>-0.045727</td>\n",
       "      <td>-0.031959</td>\n",
       "      <td>0.005322</td>\n",
       "      <td>0.060761</td>\n",
       "      <td>...</td>\n",
       "      <td>0.001145</td>\n",
       "      <td>-0.005495</td>\n",
       "      <td>1.000000</td>\n",
       "      <td>0.010446</td>\n",
       "      <td>-0.029868</td>\n",
       "      <td>-0.000723</td>\n",
       "      <td>NaN</td>\n",
       "      <td>-0.025361</td>\n",
       "      <td>0.006224</td>\n",
       "      <td>-0.180990</td>\n",
       "    </tr>\n",
       "    <tr>\n",
       "      <th>from_date_minutes</th>\n",
       "      <td>-0.021140</td>\n",
       "      <td>-0.026452</td>\n",
       "      <td>-0.005083</td>\n",
       "      <td>-0.012759</td>\n",
       "      <td>0.023901</td>\n",
       "      <td>0.021781</td>\n",
       "      <td>-0.041375</td>\n",
       "      <td>0.017375</td>\n",
       "      <td>0.017017</td>\n",
       "      <td>0.041887</td>\n",
       "      <td>...</td>\n",
       "      <td>-0.000609</td>\n",
       "      <td>-0.001657</td>\n",
       "      <td>0.010446</td>\n",
       "      <td>1.000000</td>\n",
       "      <td>0.002940</td>\n",
       "      <td>0.000006</td>\n",
       "      <td>NaN</td>\n",
       "      <td>0.011352</td>\n",
       "      <td>-0.007675</td>\n",
       "      <td>-0.047432</td>\n",
       "    </tr>\n",
       "    <tr>\n",
       "      <th>booking_created_month</th>\n",
       "      <td>0.059808</td>\n",
       "      <td>0.150480</td>\n",
       "      <td>0.005512</td>\n",
       "      <td>0.022036</td>\n",
       "      <td>0.021689</td>\n",
       "      <td>0.035095</td>\n",
       "      <td>-0.001811</td>\n",
       "      <td>0.106877</td>\n",
       "      <td>0.092803</td>\n",
       "      <td>0.043010</td>\n",
       "      <td>...</td>\n",
       "      <td>-0.031384</td>\n",
       "      <td>0.013048</td>\n",
       "      <td>-0.029868</td>\n",
       "      <td>0.002940</td>\n",
       "      <td>1.000000</td>\n",
       "      <td>-0.029287</td>\n",
       "      <td>NaN</td>\n",
       "      <td>-0.002824</td>\n",
       "      <td>0.008090</td>\n",
       "      <td>0.023030</td>\n",
       "    </tr>\n",
       "    <tr>\n",
       "      <th>booking_created_day</th>\n",
       "      <td>0.000195</td>\n",
       "      <td>-0.004010</td>\n",
       "      <td>-0.001167</td>\n",
       "      <td>0.015791</td>\n",
       "      <td>0.010938</td>\n",
       "      <td>-0.001288</td>\n",
       "      <td>-0.000263</td>\n",
       "      <td>-0.005183</td>\n",
       "      <td>-0.002577</td>\n",
       "      <td>0.006837</td>\n",
       "      <td>...</td>\n",
       "      <td>0.787707</td>\n",
       "      <td>-0.000669</td>\n",
       "      <td>-0.000723</td>\n",
       "      <td>0.000006</td>\n",
       "      <td>-0.029287</td>\n",
       "      <td>1.000000</td>\n",
       "      <td>NaN</td>\n",
       "      <td>0.001283</td>\n",
       "      <td>0.004665</td>\n",
       "      <td>-0.014178</td>\n",
       "    </tr>\n",
       "    <tr>\n",
       "      <th>booking_created_year</th>\n",
       "      <td>NaN</td>\n",
       "      <td>NaN</td>\n",
       "      <td>NaN</td>\n",
       "      <td>NaN</td>\n",
       "      <td>NaN</td>\n",
       "      <td>NaN</td>\n",
       "      <td>NaN</td>\n",
       "      <td>NaN</td>\n",
       "      <td>NaN</td>\n",
       "      <td>NaN</td>\n",
       "      <td>...</td>\n",
       "      <td>NaN</td>\n",
       "      <td>NaN</td>\n",
       "      <td>NaN</td>\n",
       "      <td>NaN</td>\n",
       "      <td>NaN</td>\n",
       "      <td>NaN</td>\n",
       "      <td>NaN</td>\n",
       "      <td>NaN</td>\n",
       "      <td>NaN</td>\n",
       "      <td>NaN</td>\n",
       "    </tr>\n",
       "    <tr>\n",
       "      <th>booking_created_hour</th>\n",
       "      <td>-0.011271</td>\n",
       "      <td>0.013694</td>\n",
       "      <td>-0.046389</td>\n",
       "      <td>-0.005092</td>\n",
       "      <td>-0.008068</td>\n",
       "      <td>0.001477</td>\n",
       "      <td>-0.006957</td>\n",
       "      <td>0.064584</td>\n",
       "      <td>0.023631</td>\n",
       "      <td>-0.009024</td>\n",
       "      <td>...</td>\n",
       "      <td>-0.003038</td>\n",
       "      <td>0.000464</td>\n",
       "      <td>-0.025361</td>\n",
       "      <td>0.011352</td>\n",
       "      <td>-0.002824</td>\n",
       "      <td>0.001283</td>\n",
       "      <td>NaN</td>\n",
       "      <td>1.000000</td>\n",
       "      <td>-0.025012</td>\n",
       "      <td>0.009332</td>\n",
       "    </tr>\n",
       "    <tr>\n",
       "      <th>booking_created_minutes</th>\n",
       "      <td>-0.001352</td>\n",
       "      <td>-0.012700</td>\n",
       "      <td>-0.006651</td>\n",
       "      <td>0.006082</td>\n",
       "      <td>0.011199</td>\n",
       "      <td>-0.005806</td>\n",
       "      <td>0.005526</td>\n",
       "      <td>-0.003297</td>\n",
       "      <td>0.000102</td>\n",
       "      <td>0.005298</td>\n",
       "      <td>...</td>\n",
       "      <td>0.001563</td>\n",
       "      <td>0.002211</td>\n",
       "      <td>0.006224</td>\n",
       "      <td>-0.007675</td>\n",
       "      <td>0.008090</td>\n",
       "      <td>0.004665</td>\n",
       "      <td>NaN</td>\n",
       "      <td>-0.025012</td>\n",
       "      <td>1.000000</td>\n",
       "      <td>-0.003888</td>\n",
       "    </tr>\n",
       "    <tr>\n",
       "      <th>distance</th>\n",
       "      <td>0.077159</td>\n",
       "      <td>0.198065</td>\n",
       "      <td>0.277594</td>\n",
       "      <td>-0.083567</td>\n",
       "      <td>-0.263196</td>\n",
       "      <td>-0.003031</td>\n",
       "      <td>0.035677</td>\n",
       "      <td>0.058111</td>\n",
       "      <td>0.004945</td>\n",
       "      <td>0.013864</td>\n",
       "      <td>...</td>\n",
       "      <td>-0.008004</td>\n",
       "      <td>0.003140</td>\n",
       "      <td>-0.180990</td>\n",
       "      <td>-0.047432</td>\n",
       "      <td>0.023030</td>\n",
       "      <td>-0.014178</td>\n",
       "      <td>NaN</td>\n",
       "      <td>0.009332</td>\n",
       "      <td>-0.003888</td>\n",
       "      <td>1.000000</td>\n",
       "    </tr>\n",
       "  </tbody>\n",
       "</table>\n",
       "<p>25 rows × 25 columns</p>\n",
       "</div>"
      ],
      "text/plain": [
       "                         vehicle_model_id  package_id  travel_type_id  \\\n",
       "vehicle_model_id                 1.000000    0.025990       -0.034539   \n",
       "package_id                       0.025990    1.000000        0.487682   \n",
       "travel_type_id                  -0.034539    0.487682        1.000000   \n",
       "from_area_id                    -0.023571    0.006250        0.026319   \n",
       "to_area_id                      -0.042143   -0.069762       -0.088492   \n",
       "from_city_id                    -0.031214    0.011043        0.115965   \n",
       "to_city_id                       0.042105   -0.017302       -0.181687   \n",
       "online_booking                   0.015371   -0.042666       -0.069832   \n",
       "mobile_site_booking             -0.006961   -0.028668       -0.022955   \n",
       "from_lat                         0.057025   -0.059091       -0.093810   \n",
       "from_long                        0.022325    0.006386       -0.023469   \n",
       "to_lat                           0.082232    0.274572        0.348084   \n",
       "to_long                          0.068932    0.205559        0.260568   \n",
       "Car_Cancellation                -0.045244   -0.006375       -0.023360   \n",
       "from_date_month                  0.060011    0.147186        0.000760   \n",
       "from_date_day                    0.005133    0.005082        0.002893   \n",
       "from_date_year                  -0.004254   -0.002056       -0.008936   \n",
       "from_date_hour                  -0.010376   -0.071555        0.033015   \n",
       "from_date_minutes               -0.021140   -0.026452       -0.005083   \n",
       "booking_created_month            0.059808    0.150480        0.005512   \n",
       "booking_created_day              0.000195   -0.004010       -0.001167   \n",
       "booking_created_year                  NaN         NaN             NaN   \n",
       "booking_created_hour            -0.011271    0.013694       -0.046389   \n",
       "booking_created_minutes         -0.001352   -0.012700       -0.006651   \n",
       "distance                         0.077159    0.198065        0.277594   \n",
       "\n",
       "                         from_area_id  to_area_id  from_city_id  to_city_id  \\\n",
       "vehicle_model_id            -0.023571   -0.042143     -0.031214    0.042105   \n",
       "package_id                   0.006250   -0.069762      0.011043   -0.017302   \n",
       "travel_type_id               0.026319   -0.088492      0.115965   -0.181687   \n",
       "from_area_id                 1.000000    0.006234      0.011608   -0.007848   \n",
       "to_area_id                   0.006234    1.000000      0.012584   -0.019717   \n",
       "from_city_id                 0.011608    0.012584      1.000000   -0.081066   \n",
       "to_city_id                  -0.007848   -0.019717     -0.081066    1.000000   \n",
       "online_booking               0.015397    0.010430     -0.062363    0.005256   \n",
       "mobile_site_booking         -0.010361   -0.006913      0.005694   -0.002345   \n",
       "from_lat                    -0.110502    0.048673     -0.024428    0.004278   \n",
       "from_long                   -0.095192    0.019778     -0.012374    0.015474   \n",
       "to_lat                       0.006621   -0.300587     -0.049530    0.077602   \n",
       "to_long                      0.006421   -0.307519     -0.037081    0.058097   \n",
       "Car_Cancellation             0.011466    0.070850      0.012443   -0.016541   \n",
       "from_date_month              0.022078    0.024818      0.033761   -0.001685   \n",
       "from_date_day                0.013833    0.002289     -0.006731   -0.002851   \n",
       "from_date_year              -0.000098    0.001167      0.000371    0.021657   \n",
       "from_date_hour              -0.005615    0.111027      0.030024   -0.045727   \n",
       "from_date_minutes           -0.012759    0.023901      0.021781   -0.041375   \n",
       "booking_created_month        0.022036    0.021689      0.035095   -0.001811   \n",
       "booking_created_day          0.015791    0.010938     -0.001288   -0.000263   \n",
       "booking_created_year              NaN         NaN           NaN         NaN   \n",
       "booking_created_hour        -0.005092   -0.008068      0.001477   -0.006957   \n",
       "booking_created_minutes      0.006082    0.011199     -0.005806    0.005526   \n",
       "distance                    -0.083567   -0.263196     -0.003031    0.035677   \n",
       "\n",
       "                         online_booking  mobile_site_booking  from_lat  ...  \\\n",
       "vehicle_model_id               0.015371            -0.006961  0.057025  ...   \n",
       "package_id                    -0.042666            -0.028668 -0.059091  ...   \n",
       "travel_type_id                -0.069832            -0.022955 -0.093810  ...   \n",
       "from_area_id                   0.015397            -0.010361 -0.110502  ...   \n",
       "to_area_id                     0.010430            -0.006913  0.048673  ...   \n",
       "from_city_id                  -0.062363             0.005694 -0.024428  ...   \n",
       "to_city_id                     0.005256            -0.002345  0.004278  ...   \n",
       "online_booking                 1.000000            -0.156546  0.042696  ...   \n",
       "mobile_site_booking           -0.156546             1.000000  0.035412  ...   \n",
       "from_lat                       0.042696             0.035412  1.000000  ...   \n",
       "from_long                      0.070436             0.003411  0.216051  ...   \n",
       "to_lat                         0.019311            -0.030953 -0.186701  ...   \n",
       "to_long                       -0.006233            -0.009063 -0.085646  ...   \n",
       "Car_Cancellation               0.149476             0.067204 -0.075988  ...   \n",
       "from_date_month                0.103908             0.089996  0.045161  ...   \n",
       "from_date_day                 -0.004597             0.000620  0.006214  ...   \n",
       "from_date_year                -0.000318            -0.001767  0.008184  ...   \n",
       "from_date_hour                -0.031959             0.005322  0.060761  ...   \n",
       "from_date_minutes              0.017375             0.017017  0.041887  ...   \n",
       "booking_created_month          0.106877             0.092803  0.043010  ...   \n",
       "booking_created_day           -0.005183            -0.002577  0.006837  ...   \n",
       "booking_created_year                NaN                  NaN       NaN  ...   \n",
       "booking_created_hour           0.064584             0.023631 -0.009024  ...   \n",
       "booking_created_minutes       -0.003297             0.000102  0.005298  ...   \n",
       "distance                       0.058111             0.004945  0.013864  ...   \n",
       "\n",
       "                         from_date_day  from_date_year  from_date_hour  \\\n",
       "vehicle_model_id              0.005133       -0.004254       -0.010376   \n",
       "package_id                    0.005082       -0.002056       -0.071555   \n",
       "travel_type_id                0.002893       -0.008936        0.033015   \n",
       "from_area_id                  0.013833       -0.000098       -0.005615   \n",
       "to_area_id                    0.002289        0.001167        0.111027   \n",
       "from_city_id                 -0.006731        0.000371        0.030024   \n",
       "to_city_id                   -0.002851        0.021657       -0.045727   \n",
       "online_booking               -0.004597       -0.000318       -0.031959   \n",
       "mobile_site_booking           0.000620       -0.001767        0.005322   \n",
       "from_lat                      0.006214        0.008184        0.060761   \n",
       "from_long                     0.003306        0.001541        0.043510   \n",
       "to_lat                        0.002132        0.005459       -0.249883   \n",
       "to_long                       0.003789        0.002167       -0.224550   \n",
       "Car_Cancellation             -0.018526       -0.002317        0.101207   \n",
       "from_date_month              -0.046261       -0.013574       -0.033417   \n",
       "from_date_day                 1.000000       -0.008157        0.001145   \n",
       "from_date_year               -0.008157        1.000000       -0.005495   \n",
       "from_date_hour                0.001145       -0.005495        1.000000   \n",
       "from_date_minutes            -0.000609       -0.001657        0.010446   \n",
       "booking_created_month        -0.031384        0.013048       -0.029868   \n",
       "booking_created_day           0.787707       -0.000669       -0.000723   \n",
       "booking_created_year               NaN             NaN             NaN   \n",
       "booking_created_hour         -0.003038        0.000464       -0.025361   \n",
       "booking_created_minutes       0.001563        0.002211        0.006224   \n",
       "distance                     -0.008004        0.003140       -0.180990   \n",
       "\n",
       "                         from_date_minutes  booking_created_month  \\\n",
       "vehicle_model_id                 -0.021140               0.059808   \n",
       "package_id                       -0.026452               0.150480   \n",
       "travel_type_id                   -0.005083               0.005512   \n",
       "from_area_id                     -0.012759               0.022036   \n",
       "to_area_id                        0.023901               0.021689   \n",
       "from_city_id                      0.021781               0.035095   \n",
       "to_city_id                       -0.041375              -0.001811   \n",
       "online_booking                    0.017375               0.106877   \n",
       "mobile_site_booking               0.017017               0.092803   \n",
       "from_lat                          0.041887               0.043010   \n",
       "from_long                         0.002423               0.031463   \n",
       "to_lat                           -0.077970               0.028402   \n",
       "to_long                          -0.042589               0.031627   \n",
       "Car_Cancellation                  0.007925               0.133643   \n",
       "from_date_month                   0.002428               0.996731   \n",
       "from_date_day                    -0.000609              -0.031384   \n",
       "from_date_year                   -0.001657               0.013048   \n",
       "from_date_hour                    0.010446              -0.029868   \n",
       "from_date_minutes                 1.000000               0.002940   \n",
       "booking_created_month             0.002940               1.000000   \n",
       "booking_created_day               0.000006              -0.029287   \n",
       "booking_created_year                   NaN                    NaN   \n",
       "booking_created_hour              0.011352              -0.002824   \n",
       "booking_created_minutes          -0.007675               0.008090   \n",
       "distance                         -0.047432               0.023030   \n",
       "\n",
       "                         booking_created_day  booking_created_year  \\\n",
       "vehicle_model_id                    0.000195                   NaN   \n",
       "package_id                         -0.004010                   NaN   \n",
       "travel_type_id                     -0.001167                   NaN   \n",
       "from_area_id                        0.015791                   NaN   \n",
       "to_area_id                          0.010938                   NaN   \n",
       "from_city_id                       -0.001288                   NaN   \n",
       "to_city_id                         -0.000263                   NaN   \n",
       "online_booking                     -0.005183                   NaN   \n",
       "mobile_site_booking                -0.002577                   NaN   \n",
       "from_lat                            0.006837                   NaN   \n",
       "from_long                          -0.004933                   NaN   \n",
       "to_lat                             -0.001011                   NaN   \n",
       "to_long                            -0.004390                   NaN   \n",
       "Car_Cancellation                    0.001882                   NaN   \n",
       "from_date_month                    -0.003348                   NaN   \n",
       "from_date_day                       0.787707                   NaN   \n",
       "from_date_year                     -0.000669                   NaN   \n",
       "from_date_hour                     -0.000723                   NaN   \n",
       "from_date_minutes                   0.000006                   NaN   \n",
       "booking_created_month              -0.029287                   NaN   \n",
       "booking_created_day                 1.000000                   NaN   \n",
       "booking_created_year                     NaN                   NaN   \n",
       "booking_created_hour                0.001283                   NaN   \n",
       "booking_created_minutes             0.004665                   NaN   \n",
       "distance                           -0.014178                   NaN   \n",
       "\n",
       "                         booking_created_hour  booking_created_minutes  \\\n",
       "vehicle_model_id                    -0.011271                -0.001352   \n",
       "package_id                           0.013694                -0.012700   \n",
       "travel_type_id                      -0.046389                -0.006651   \n",
       "from_area_id                        -0.005092                 0.006082   \n",
       "to_area_id                          -0.008068                 0.011199   \n",
       "from_city_id                         0.001477                -0.005806   \n",
       "to_city_id                          -0.006957                 0.005526   \n",
       "online_booking                       0.064584                -0.003297   \n",
       "mobile_site_booking                  0.023631                 0.000102   \n",
       "from_lat                            -0.009024                 0.005298   \n",
       "from_long                           -0.008241                -0.001442   \n",
       "to_lat                               0.001230                 0.000392   \n",
       "to_long                             -0.000074                 0.002696   \n",
       "Car_Cancellation                    -0.000672                 0.007067   \n",
       "from_date_month                     -0.002400                 0.008523   \n",
       "from_date_day                       -0.003038                 0.001563   \n",
       "from_date_year                       0.000464                 0.002211   \n",
       "from_date_hour                      -0.025361                 0.006224   \n",
       "from_date_minutes                    0.011352                -0.007675   \n",
       "booking_created_month               -0.002824                 0.008090   \n",
       "booking_created_day                  0.001283                 0.004665   \n",
       "booking_created_year                      NaN                      NaN   \n",
       "booking_created_hour                 1.000000                -0.025012   \n",
       "booking_created_minutes             -0.025012                 1.000000   \n",
       "distance                             0.009332                -0.003888   \n",
       "\n",
       "                         distance  \n",
       "vehicle_model_id         0.077159  \n",
       "package_id               0.198065  \n",
       "travel_type_id           0.277594  \n",
       "from_area_id            -0.083567  \n",
       "to_area_id              -0.263196  \n",
       "from_city_id            -0.003031  \n",
       "to_city_id               0.035677  \n",
       "online_booking           0.058111  \n",
       "mobile_site_booking      0.004945  \n",
       "from_lat                 0.013864  \n",
       "from_long                0.057591  \n",
       "to_lat                   0.609986  \n",
       "to_long                  0.455979  \n",
       "Car_Cancellation        -0.133595  \n",
       "from_date_month          0.017992  \n",
       "from_date_day           -0.008004  \n",
       "from_date_year           0.003140  \n",
       "from_date_hour          -0.180990  \n",
       "from_date_minutes       -0.047432  \n",
       "booking_created_month    0.023030  \n",
       "booking_created_day     -0.014178  \n",
       "booking_created_year          NaN  \n",
       "booking_created_hour     0.009332  \n",
       "booking_created_minutes -0.003888  \n",
       "distance                 1.000000  \n",
       "\n",
       "[25 rows x 25 columns]"
      ]
     },
     "execution_count": 207,
     "metadata": {},
     "output_type": "execute_result"
    }
   ],
   "source": [
    "df.corr()"
   ]
  },
  {
   "cell_type": "code",
   "execution_count": 210,
   "id": "737ebddc-ed23-405a-ab29-b0c88e43d8b6",
   "metadata": {},
   "outputs": [],
   "source": [
    "df.drop(\"booking_created_year\", axis=1,inplace=True)"
   ]
  },
  {
   "cell_type": "code",
   "execution_count": 211,
   "id": "bd1a99e3-6158-4af4-9d11-4831168b4c30",
   "metadata": {},
   "outputs": [],
   "source": [
    "X = df.drop(\"Car_Cancellation\", axis=1)\n",
    "y = df[\"Car_Cancellation\"]"
   ]
  },
  {
   "cell_type": "code",
   "execution_count": 212,
   "id": "95af5eed-0376-4e37-be1b-d03174d10378",
   "metadata": {},
   "outputs": [],
   "source": [
    "from sklearn.model_selection import train_test_split"
   ]
  },
  {
   "cell_type": "code",
   "execution_count": 229,
   "id": "e8ba114a-6fa9-4af9-b837-a5288850c9e0",
   "metadata": {},
   "outputs": [],
   "source": [
    "from imblearn.over_sampling import RandomOverSampler\n",
    "ros = RandomOverSampler(\n",
    "    sampling_strategy='auto',\n",
    "    random_state=0,\n",
    ")  \n",
    "X, y = ros.fit_resample(X, y)"
   ]
  },
  {
   "cell_type": "code",
   "execution_count": 230,
   "id": "39abcf9d-13b7-4489-bf88-023c822d1ae2",
   "metadata": {},
   "outputs": [],
   "source": [
    "X_train, X_test, y_train, y_test = train_test_split(X, y, test_size=0.2, random_state=42)"
   ]
  },
  {
   "cell_type": "code",
   "execution_count": 231,
   "id": "e36222e1-3fb9-422e-a0df-dbaaeb0a7bb4",
   "metadata": {},
   "outputs": [
    {
     "data": {
      "text/html": [
       "<style>#sk-container-id-2 {color: black;background-color: white;}#sk-container-id-2 pre{padding: 0;}#sk-container-id-2 div.sk-toggleable {background-color: white;}#sk-container-id-2 label.sk-toggleable__label {cursor: pointer;display: block;width: 100%;margin-bottom: 0;padding: 0.3em;box-sizing: border-box;text-align: center;}#sk-container-id-2 label.sk-toggleable__label-arrow:before {content: \"▸\";float: left;margin-right: 0.25em;color: #696969;}#sk-container-id-2 label.sk-toggleable__label-arrow:hover:before {color: black;}#sk-container-id-2 div.sk-estimator:hover label.sk-toggleable__label-arrow:before {color: black;}#sk-container-id-2 div.sk-toggleable__content {max-height: 0;max-width: 0;overflow: hidden;text-align: left;background-color: #f0f8ff;}#sk-container-id-2 div.sk-toggleable__content pre {margin: 0.2em;color: black;border-radius: 0.25em;background-color: #f0f8ff;}#sk-container-id-2 input.sk-toggleable__control:checked~div.sk-toggleable__content {max-height: 200px;max-width: 100%;overflow: auto;}#sk-container-id-2 input.sk-toggleable__control:checked~label.sk-toggleable__label-arrow:before {content: \"▾\";}#sk-container-id-2 div.sk-estimator input.sk-toggleable__control:checked~label.sk-toggleable__label {background-color: #d4ebff;}#sk-container-id-2 div.sk-label input.sk-toggleable__control:checked~label.sk-toggleable__label {background-color: #d4ebff;}#sk-container-id-2 input.sk-hidden--visually {border: 0;clip: rect(1px 1px 1px 1px);clip: rect(1px, 1px, 1px, 1px);height: 1px;margin: -1px;overflow: hidden;padding: 0;position: absolute;width: 1px;}#sk-container-id-2 div.sk-estimator {font-family: monospace;background-color: #f0f8ff;border: 1px dotted black;border-radius: 0.25em;box-sizing: border-box;margin-bottom: 0.5em;}#sk-container-id-2 div.sk-estimator:hover {background-color: #d4ebff;}#sk-container-id-2 div.sk-parallel-item::after {content: \"\";width: 100%;border-bottom: 1px solid gray;flex-grow: 1;}#sk-container-id-2 div.sk-label:hover label.sk-toggleable__label {background-color: #d4ebff;}#sk-container-id-2 div.sk-serial::before {content: \"\";position: absolute;border-left: 1px solid gray;box-sizing: border-box;top: 0;bottom: 0;left: 50%;z-index: 0;}#sk-container-id-2 div.sk-serial {display: flex;flex-direction: column;align-items: center;background-color: white;padding-right: 0.2em;padding-left: 0.2em;position: relative;}#sk-container-id-2 div.sk-item {position: relative;z-index: 1;}#sk-container-id-2 div.sk-parallel {display: flex;align-items: stretch;justify-content: center;background-color: white;position: relative;}#sk-container-id-2 div.sk-item::before, #sk-container-id-2 div.sk-parallel-item::before {content: \"\";position: absolute;border-left: 1px solid gray;box-sizing: border-box;top: 0;bottom: 0;left: 50%;z-index: -1;}#sk-container-id-2 div.sk-parallel-item {display: flex;flex-direction: column;z-index: 1;position: relative;background-color: white;}#sk-container-id-2 div.sk-parallel-item:first-child::after {align-self: flex-end;width: 50%;}#sk-container-id-2 div.sk-parallel-item:last-child::after {align-self: flex-start;width: 50%;}#sk-container-id-2 div.sk-parallel-item:only-child::after {width: 0;}#sk-container-id-2 div.sk-dashed-wrapped {border: 1px dashed gray;margin: 0 0.4em 0.5em 0.4em;box-sizing: border-box;padding-bottom: 0.4em;background-color: white;}#sk-container-id-2 div.sk-label label {font-family: monospace;font-weight: bold;display: inline-block;line-height: 1.2em;}#sk-container-id-2 div.sk-label-container {text-align: center;}#sk-container-id-2 div.sk-container {/* jupyter's `normalize.less` sets `[hidden] { display: none; }` but bootstrap.min.css set `[hidden] { display: none !important; }` so we also need the `!important` here to be able to override the default hidden behavior on the sphinx rendered scikit-learn.org. See: https://github.com/scikit-learn/scikit-learn/issues/21755 */display: inline-block !important;position: relative;}#sk-container-id-2 div.sk-text-repr-fallback {display: none;}</style><div id=\"sk-container-id-2\" class=\"sk-top-container\"><div class=\"sk-text-repr-fallback\"><pre>RandomForestClassifier()</pre><b>In a Jupyter environment, please rerun this cell to show the HTML representation or trust the notebook. <br />On GitHub, the HTML representation is unable to render, please try loading this page with nbviewer.org.</b></div><div class=\"sk-container\" hidden><div class=\"sk-item\"><div class=\"sk-estimator sk-toggleable\"><input class=\"sk-toggleable__control sk-hidden--visually\" id=\"sk-estimator-id-2\" type=\"checkbox\" checked><label for=\"sk-estimator-id-2\" class=\"sk-toggleable__label sk-toggleable__label-arrow\">RandomForestClassifier</label><div class=\"sk-toggleable__content\"><pre>RandomForestClassifier()</pre></div></div></div></div></div>"
      ],
      "text/plain": [
       "RandomForestClassifier()"
      ]
     },
     "execution_count": 231,
     "metadata": {},
     "output_type": "execute_result"
    }
   ],
   "source": [
    "model.fit(X_train, y_train)"
   ]
  },
  {
   "cell_type": "code",
   "execution_count": 232,
   "id": "d82d4a71-3fb7-4464-8968-88a737991cb7",
   "metadata": {},
   "outputs": [
    {
     "name": "stdout",
     "output_type": "stream",
     "text": [
      "              precision    recall  f1-score   support\n",
      "\n",
      "           0       1.00      0.99      0.99      8044\n",
      "           1       0.99      1.00      0.99      8076\n",
      "\n",
      "    accuracy                           0.99     16120\n",
      "   macro avg       0.99      0.99      0.99     16120\n",
      "weighted avg       0.99      0.99      0.99     16120\n",
      "\n"
     ]
    }
   ],
   "source": [
    "y_preds = model.predict(X_test)\n",
    "print(classification_report(y_test, y_preds))"
   ]
  },
  {
   "cell_type": "code",
   "execution_count": null,
   "id": "79057a00-a7b5-43d4-9e19-ad78b9713088",
   "metadata": {},
   "outputs": [],
   "source": []
  }
 ],
 "metadata": {
  "kernelspec": {
   "display_name": "Python 3 (ipykernel)",
   "language": "python",
   "name": "python3"
  },
  "language_info": {
   "codemirror_mode": {
    "name": "ipython",
    "version": 3
   },
   "file_extension": ".py",
   "mimetype": "text/x-python",
   "name": "python",
   "nbconvert_exporter": "python",
   "pygments_lexer": "ipython3",
   "version": "3.11.7"
  }
 },
 "nbformat": 4,
 "nbformat_minor": 5
}
